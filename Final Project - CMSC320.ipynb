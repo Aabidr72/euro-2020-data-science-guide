{
 "cells": [
  {
   "cell_type": "markdown",
   "id": "equal-gateway",
   "metadata": {},
   "source": [
    "# Predicting the UEFA European Football Championship"
   ]
  },
  {
   "cell_type": "markdown",
   "id": "japanese-google",
   "metadata": {},
   "source": [
    "Tutorial by Aabid Roshan, Sid Joshi, Pranav Sivaraman"
   ]
  },
  {
   "cell_type": "code",
   "execution_count": 2,
   "id": "sensitive-anaheim",
   "metadata": {},
   "outputs": [],
   "source": [
    "import pandas as pd\n",
    "import matplotlib.pyplot as plt"
   ]
  },
  {
   "cell_type": "code",
   "execution_count": 3,
   "id": "increasing-glasgow",
   "metadata": {},
   "outputs": [],
   "source": [
    "df = pd.read_csv(\"match_results.csv\")\n",
    "df['date'] = pd.to_datetime(df['date'])"
   ]
  },
  {
   "cell_type": "markdown",
   "id": "divine-asset",
   "metadata": {},
   "source": [
    "---\n",
    "# Creating the Ranking System"
   ]
  },
  {
   "cell_type": "markdown",
   "id": "enormous-floor",
   "metadata": {},
   "source": [
    "### These are a list of the teams we are going to look at. The current list of teams below was chosen based on the qualifiers for the upcoming 2020 UEFA European Football Championship. These are the teams that qualified for said tournament. The teams can be changed if need be."
   ]
  },
  {
   "cell_type": "code",
   "execution_count": 4,
   "id": "beginning-request",
   "metadata": {},
   "outputs": [],
   "source": [
    "teams = ['Turkey', 'Italy', 'Wales', 'Switzerland',\n",
    "         'Denmark', 'Finland', 'Belgium', 'Russia',\n",
    "         'Netherlands', 'Ukraine', 'Austria', 'North Macedonia',\n",
    "         'England', 'Croatia', 'Scotland', 'Czech Republic',\n",
    "         'Spain', 'Sweden', 'Poland', 'Slovakia',\n",
    "         'Hungary', 'Portugal', 'France', 'Germany']"
   ]
  },
  {
   "cell_type": "markdown",
   "id": "iraqi-cache",
   "metadata": {},
   "source": [
    "### The methods below are used to calculate the elo of respective teams as used by FIFA. \n",
    "For more information on the calculations look at this link: https://en.wikipedia.org/wiki/World_Football_Elo_Ratings"
   ]
  },
  {
   "cell_type": "code",
   "execution_count": 21,
   "id": "interested-marina",
   "metadata": {},
   "outputs": [],
   "source": [
    "def initialize_elo_system(teams, initial_rating):\n",
    "    ratings = {}\n",
    "    for team in teams:\n",
    "        ratings[team] = [initial_rating]\n",
    "        \n",
    "    return ratings\n",
    "\n",
    "def calculate_probabilities(home_rating, away_rating, scale_factor=400):\n",
    "    p_home = 1 / (1 + 10**((away_rating - home_rating) / scale_factor))\n",
    "    p_away = 1 / (1 + 10**((home_rating - away_rating) / scale_factor)) \n",
    "    \n",
    "    return p_home, p_away\n",
    "\n",
    "def calculate_rankings(matches, ratings, k_factor=22.2):\n",
    "    num_matches = len(matches)\n",
    "    home_teams, away_teams = matches['home_team'].values, matches['away_team'].values\n",
    "    home_scores, away_scores = matches['home_score'].values, matches['away_score'].values\n",
    "    \n",
    "    for i in range(num_matches):\n",
    "        home_team, away_team = home_teams[i], away_teams[i]\n",
    "        home_score, away_score = home_scores[i], away_scores[i]\n",
    "        \n",
    "        p_home, p_away = calculate_probabilities(ratings[home_team][-1], ratings[away_team][-1])\n",
    "        \n",
    "        if home_score > away_score:\n",
    "            match_result_home = 1\n",
    "            match_result_away = 0\n",
    "        elif home_score < away_score:\n",
    "            match_result_home = 0\n",
    "            match_result_away = 1\n",
    "        elif home_score == away_score:\n",
    "            match_result_home = 0.5\n",
    "            match_result_away = 0.5\n",
    "            \n",
    "        new_rating_home = ratings[home_team][-1] + k_factor * (match_result_home - p_home)\n",
    "        new_rating_away = ratings[away_team][-1] + k_factor * (match_result_away - p_away)\n",
    "        \n",
    "        ratings[home_team].append(new_rating_home)\n",
    "        ratings[away_team].append(new_rating_away)\n",
    "        \n",
    "    return ratings\n",
    "\n",
    "def calculate_elo(teams, year_range):\n",
    "    ratings = initialize_elo_system(teams, 1200)\n",
    "    matches = df[df['home_team'].isin(teams) & df['away_team'].isin(teams)]\n",
    "    matches = matches[matches['date'].dt.year.between(year_range[0], year_range[1])]\n",
    "    new_ratings = calculate_rankings(matches, ratings)\n",
    "    rankings = {k: v[-1] for k, v in sorted(new_ratings.items(), key=lambda item: item[1][-1], reverse=True)}\n",
    "    \n",
    "    return rankings"
   ]
  },
  {
   "cell_type": "code",
   "execution_count": 22,
   "id": "alleged-contest",
   "metadata": {
    "collapsed": true
   },
   "outputs": [
    {
     "data": {
      "text/plain": [
       "{'Spain': 1364.5183009647797,\n",
       " 'Netherlands': 1313.7134131866942,\n",
       " 'Germany': 1311.2241288528364,\n",
       " 'Croatia': 1240.5535333845992,\n",
       " 'Italy': 1239.1587366951428,\n",
       " 'France': 1232.2957884337645,\n",
       " 'England': 1226.9820451253613,\n",
       " 'Portugal': 1226.670041047823,\n",
       " 'Switzerland': 1223.7896858908427,\n",
       " 'Russia': 1213.045771738059,\n",
       " 'Turkey': 1205.615986060427,\n",
       " 'Czech Republic': 1193.2703435177937,\n",
       " 'Sweden': 1188.5366080369754,\n",
       " 'Slovakia': 1187.7533660997435,\n",
       " 'Ukraine': 1183.0565508409186,\n",
       " 'Denmark': 1165.6846236970146,\n",
       " 'Finland': 1165.6292344395317,\n",
       " 'Poland': 1159.2568534609081,\n",
       " 'Scotland': 1148.6082421430551,\n",
       " 'North Macedonia': 1138.9454850945222,\n",
       " 'Hungary': 1138.0076886006218,\n",
       " 'Belgium': 1118.97073932807,\n",
       " 'Wales': 1109.6238695003447,\n",
       " 'Austria': 1105.088963860171}"
      ]
     },
     "execution_count": 22,
     "metadata": {},
     "output_type": "execute_result"
    }
   ],
   "source": [
    "rankings = calculate_elo(teams, [2006, 2010])\n",
    "rankings"
   ]
  },
  {
   "cell_type": "markdown",
   "id": "animal-dairy",
   "metadata": {},
   "source": [
    "---\n",
    "# Seeing if being at home gives teams an advantage"
   ]
  },
  {
   "cell_type": "code",
   "execution_count": 27,
   "id": "heavy-dover",
   "metadata": {},
   "outputs": [],
   "source": [
    "def calculate_home_percentages(year_range):\n",
    "    \n",
    "    ## This method returns 2 values\n",
    "    \n",
    "    home_win = 0\n",
    "    draw = 0\n",
    "    total = 0\n",
    "    \n",
    "    nonneutral = df[df['neutral'] == False]\n",
    "    nonneutral = nonneutral[nonneutral['date'].dt.year.between(year_range[0], year_range[1])]\n",
    "\n",
    "    for index, row in nonneutral.iterrows():\n",
    "        if row['home_score'] > row['away_score']:\n",
    "            home_win += 1\n",
    "        elif row['home_score'] == row['away_score']:\n",
    "            draw += 1\n",
    "        total += 1\n",
    "\n",
    "    return (home_win/total*100, (home_win+draw)/total*100)\n"
   ]
  },
  {
   "cell_type": "code",
   "execution_count": 28,
   "id": "working-virgin",
   "metadata": {},
   "outputs": [
    {
     "data": {
      "text/plain": [
       "(50.224215246636774, 73.42301943198805)"
      ]
     },
     "execution_count": 28,
     "metadata": {},
     "output_type": "execute_result"
    }
   ],
   "source": [
    "calculate_home_percentages([2010, 2014])"
   ]
  },
  {
   "cell_type": "code",
   "execution_count": 17,
   "id": "homeless-buffer",
   "metadata": {},
   "outputs": [
    {
     "data": {
      "text/html": [
       "<div>\n",
       "<style scoped>\n",
       "    .dataframe tbody tr th:only-of-type {\n",
       "        vertical-align: middle;\n",
       "    }\n",
       "\n",
       "    .dataframe tbody tr th {\n",
       "        vertical-align: top;\n",
       "    }\n",
       "\n",
       "    .dataframe thead th {\n",
       "        text-align: right;\n",
       "    }\n",
       "</style>\n",
       "<table border=\"1\" class=\"dataframe\">\n",
       "  <thead>\n",
       "    <tr style=\"text-align: right;\">\n",
       "      <th></th>\n",
       "      <th>date</th>\n",
       "      <th>home_team</th>\n",
       "      <th>away_team</th>\n",
       "      <th>home_score</th>\n",
       "      <th>away_score</th>\n",
       "      <th>tournament</th>\n",
       "      <th>city</th>\n",
       "      <th>country</th>\n",
       "      <th>neutral</th>\n",
       "    </tr>\n",
       "  </thead>\n",
       "  <tbody>\n",
       "    <tr>\n",
       "      <th>0</th>\n",
       "      <td>1872-11-30</td>\n",
       "      <td>Scotland</td>\n",
       "      <td>England</td>\n",
       "      <td>0</td>\n",
       "      <td>0</td>\n",
       "      <td>Friendly</td>\n",
       "      <td>Glasgow</td>\n",
       "      <td>Scotland</td>\n",
       "      <td>False</td>\n",
       "    </tr>\n",
       "    <tr>\n",
       "      <th>1</th>\n",
       "      <td>1873-03-08</td>\n",
       "      <td>England</td>\n",
       "      <td>Scotland</td>\n",
       "      <td>4</td>\n",
       "      <td>2</td>\n",
       "      <td>Friendly</td>\n",
       "      <td>London</td>\n",
       "      <td>England</td>\n",
       "      <td>False</td>\n",
       "    </tr>\n",
       "    <tr>\n",
       "      <th>2</th>\n",
       "      <td>1874-03-07</td>\n",
       "      <td>Scotland</td>\n",
       "      <td>England</td>\n",
       "      <td>2</td>\n",
       "      <td>1</td>\n",
       "      <td>Friendly</td>\n",
       "      <td>Glasgow</td>\n",
       "      <td>Scotland</td>\n",
       "      <td>False</td>\n",
       "    </tr>\n",
       "    <tr>\n",
       "      <th>3</th>\n",
       "      <td>1875-03-06</td>\n",
       "      <td>England</td>\n",
       "      <td>Scotland</td>\n",
       "      <td>2</td>\n",
       "      <td>2</td>\n",
       "      <td>Friendly</td>\n",
       "      <td>London</td>\n",
       "      <td>England</td>\n",
       "      <td>False</td>\n",
       "    </tr>\n",
       "    <tr>\n",
       "      <th>4</th>\n",
       "      <td>1876-03-04</td>\n",
       "      <td>Scotland</td>\n",
       "      <td>England</td>\n",
       "      <td>3</td>\n",
       "      <td>0</td>\n",
       "      <td>Friendly</td>\n",
       "      <td>Glasgow</td>\n",
       "      <td>Scotland</td>\n",
       "      <td>False</td>\n",
       "    </tr>\n",
       "    <tr>\n",
       "      <th>...</th>\n",
       "      <td>...</td>\n",
       "      <td>...</td>\n",
       "      <td>...</td>\n",
       "      <td>...</td>\n",
       "      <td>...</td>\n",
       "      <td>...</td>\n",
       "      <td>...</td>\n",
       "      <td>...</td>\n",
       "      <td>...</td>\n",
       "    </tr>\n",
       "    <tr>\n",
       "      <th>42079</th>\n",
       "      <td>2021-03-31</td>\n",
       "      <td>Andorra</td>\n",
       "      <td>Hungary</td>\n",
       "      <td>1</td>\n",
       "      <td>4</td>\n",
       "      <td>FIFA World Cup qualification</td>\n",
       "      <td>Andorra la Vella</td>\n",
       "      <td>Andorra</td>\n",
       "      <td>False</td>\n",
       "    </tr>\n",
       "    <tr>\n",
       "      <th>42080</th>\n",
       "      <td>2021-03-31</td>\n",
       "      <td>San Marino</td>\n",
       "      <td>Albania</td>\n",
       "      <td>0</td>\n",
       "      <td>2</td>\n",
       "      <td>FIFA World Cup qualification</td>\n",
       "      <td>Serravalle</td>\n",
       "      <td>San Marino</td>\n",
       "      <td>False</td>\n",
       "    </tr>\n",
       "    <tr>\n",
       "      <th>42081</th>\n",
       "      <td>2021-03-31</td>\n",
       "      <td>Armenia</td>\n",
       "      <td>Romania</td>\n",
       "      <td>3</td>\n",
       "      <td>2</td>\n",
       "      <td>FIFA World Cup qualification</td>\n",
       "      <td>Yerevan</td>\n",
       "      <td>Armenia</td>\n",
       "      <td>False</td>\n",
       "    </tr>\n",
       "    <tr>\n",
       "      <th>42082</th>\n",
       "      <td>2021-03-31</td>\n",
       "      <td>Germany</td>\n",
       "      <td>North Macedonia</td>\n",
       "      <td>1</td>\n",
       "      <td>2</td>\n",
       "      <td>FIFA World Cup qualification</td>\n",
       "      <td>Duisburg</td>\n",
       "      <td>Germany</td>\n",
       "      <td>False</td>\n",
       "    </tr>\n",
       "    <tr>\n",
       "      <th>42083</th>\n",
       "      <td>2021-03-31</td>\n",
       "      <td>Liechtenstein</td>\n",
       "      <td>Iceland</td>\n",
       "      <td>1</td>\n",
       "      <td>4</td>\n",
       "      <td>FIFA World Cup qualification</td>\n",
       "      <td>Vaduz</td>\n",
       "      <td>Liechtenstein</td>\n",
       "      <td>False</td>\n",
       "    </tr>\n",
       "  </tbody>\n",
       "</table>\n",
       "<p>31726 rows × 9 columns</p>\n",
       "</div>"
      ],
      "text/plain": [
       "            date      home_team        away_team  home_score  away_score  \\\n",
       "0     1872-11-30       Scotland          England           0           0   \n",
       "1     1873-03-08        England         Scotland           4           2   \n",
       "2     1874-03-07       Scotland          England           2           1   \n",
       "3     1875-03-06        England         Scotland           2           2   \n",
       "4     1876-03-04       Scotland          England           3           0   \n",
       "...          ...            ...              ...         ...         ...   \n",
       "42079 2021-03-31        Andorra          Hungary           1           4   \n",
       "42080 2021-03-31     San Marino          Albania           0           2   \n",
       "42081 2021-03-31        Armenia          Romania           3           2   \n",
       "42082 2021-03-31        Germany  North Macedonia           1           2   \n",
       "42083 2021-03-31  Liechtenstein          Iceland           1           4   \n",
       "\n",
       "                         tournament              city        country  neutral  \n",
       "0                          Friendly           Glasgow       Scotland    False  \n",
       "1                          Friendly            London        England    False  \n",
       "2                          Friendly           Glasgow       Scotland    False  \n",
       "3                          Friendly            London        England    False  \n",
       "4                          Friendly           Glasgow       Scotland    False  \n",
       "...                             ...               ...            ...      ...  \n",
       "42079  FIFA World Cup qualification  Andorra la Vella        Andorra    False  \n",
       "42080  FIFA World Cup qualification        Serravalle     San Marino    False  \n",
       "42081  FIFA World Cup qualification           Yerevan        Armenia    False  \n",
       "42082  FIFA World Cup qualification          Duisburg        Germany    False  \n",
       "42083  FIFA World Cup qualification             Vaduz  Liechtenstein    False  \n",
       "\n",
       "[31726 rows x 9 columns]"
      ]
     },
     "execution_count": 17,
     "metadata": {},
     "output_type": "execute_result"
    }
   ],
   "source": [
    "nonneutral"
   ]
  },
  {
   "cell_type": "code",
   "execution_count": null,
   "id": "signed-footage",
   "metadata": {},
   "outputs": [],
   "source": []
  }
 ],
 "metadata": {
  "kernelspec": {
   "display_name": "Python 3",
   "language": "python",
   "name": "python3"
  },
  "language_info": {
   "codemirror_mode": {
    "name": "ipython",
    "version": 3
   },
   "file_extension": ".py",
   "mimetype": "text/x-python",
   "name": "python",
   "nbconvert_exporter": "python",
   "pygments_lexer": "ipython3",
   "version": "3.8.6"
  }
 },
 "nbformat": 4,
 "nbformat_minor": 5
}
