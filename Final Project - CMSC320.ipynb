{
 "cells": [
  {
   "cell_type": "code",
   "execution_count": 6,
   "id": "sensitive-anaheim",
   "metadata": {},
   "outputs": [],
   "source": [
    "import pandas as pd"
   ]
  },
  {
   "cell_type": "code",
   "execution_count": 56,
   "id": "increasing-glasgow",
   "metadata": {},
   "outputs": [],
   "source": [
    "df = pd.read_csv(\"match_results.csv\")\n",
    "df['date'] = pd.to_datetime(df['date'])"
   ]
  },
  {
   "cell_type": "markdown",
   "id": "divine-asset",
   "metadata": {},
   "source": [
    "# Predicted Tournament Winner"
   ]
  },
  {
   "cell_type": "code",
   "execution_count": 83,
   "id": "beginning-request",
   "metadata": {},
   "outputs": [],
   "source": [
    "teams = ['Turkey', 'Italy', 'Wales', 'Switzerland',\n",
    "         'Denmark', 'Finland', 'Belgium', 'Russia',\n",
    "         'Netherlands', 'Ukraine', 'Austria', 'North Macedonia',\n",
    "         'England', 'Croatia', 'Scotland', 'Czech Republic',\n",
    "         'Spain', 'Sweden', 'Poland', 'Slovakia',\n",
    "         'Hungary', 'Portugal', 'France', 'Germany']"
   ]
  },
  {
   "cell_type": "code",
   "execution_count": 87,
   "id": "interested-marina",
   "metadata": {},
   "outputs": [],
   "source": [
    "def initialize_elo_system(teams, initial_rating):\n",
    "    ratings = {}\n",
    "    for team in teams:\n",
    "        ratings[team] = initial_rating\n",
    "        \n",
    "    return ratings"
   ]
  },
  {
   "cell_type": "code",
   "execution_count": 125,
   "id": "brazilian-alpha",
   "metadata": {},
   "outputs": [],
   "source": [
    "def calculate_rankings(matches, ratings, scale_factor=400, k_factor=22.2):\n",
    "    num_matches = len(matches)\n",
    "    home_teams, away_teams = matches['home_team'].values, matches['away_team'].values\n",
    "    home_scores, away_scores = matches['home_score'].values, matches['away_score'].values\n",
    "    \n",
    "    for i in range(num_matches):\n",
    "        home_team, away_team = home_teams[i], away_teams[i]\n",
    "        home_score, away_score = home_scores[i], away_scores[i]\n",
    "        \n",
    "        p_home = 1 / (1 + 10**((ratings[away_team] - ratings[home_team]) / scale_factor))\n",
    "        p_away = 1 / (1 + 10**((ratings[home_team] - ratings[away_team]) / scale_factor))\n",
    "        \n",
    "        if home_score > away_score:\n",
    "            match_result_home = 1\n",
    "            match_result_away = 0\n",
    "        elif home_score < away_score:\n",
    "            match_result_home = 0\n",
    "            match_result_away = 1\n",
    "        elif home_score == away_score:\n",
    "            match_result_home = 0.5\n",
    "            match_result_away = 0.5\n",
    "            \n",
    "        new_rating_home = ratings[home_team] + k_factor * (match_result_home - p_home)\n",
    "        new_rating_away = ratings[away_team] + k_factor * (match_result_away - p_away)\n",
    "        \n",
    "        ratings[home_team] = new_rating_home\n",
    "        ratings[away_team] = new_rating_away\n",
    "        \n",
    "    return ratings"
   ]
  },
  {
   "cell_type": "code",
   "execution_count": 126,
   "id": "numerical-blair",
   "metadata": {},
   "outputs": [],
   "source": [
    "ratings = initialize_elo_system(teams, 1200)\n",
    "matches = df[df['home_team'].isin(teams) & df['away_team'].isin(teams)]\n",
    "matches = matches[matches['date'].dt.year >= 2016]\n",
    "new_ratings = calculate_rankings(matches, ratings)\n",
    "rankings = {k: v for k, v in sorted(new_ratings.items(), key=lambda item: item[1])}"
   ]
  },
  {
   "cell_type": "code",
   "execution_count": 127,
   "id": "alleged-contest",
   "metadata": {},
   "outputs": [
    {
     "data": {
      "text/plain": [
       "{'Finland': 1106.9160648176423,\n",
       " 'Hungary': 1137.0885735619433,\n",
       " 'Slovakia': 1143.136559167868,\n",
       " 'North Macedonia': 1145.836863022899,\n",
       " 'Russia': 1145.9700150236488,\n",
       " 'Czech Republic': 1147.720106975519,\n",
       " 'Scotland': 1156.1437458786165,\n",
       " 'Sweden': 1159.9417539436076,\n",
       " 'Switzerland': 1173.1100439669417,\n",
       " 'Wales': 1177.3990750993348,\n",
       " 'Austria': 1182.4672188472784,\n",
       " 'Poland': 1186.7665477282073,\n",
       " 'Ukraine': 1193.182745637513,\n",
       " 'Turkey': 1196.2730739269941,\n",
       " 'Croatia': 1204.113028313914,\n",
       " 'Denmark': 1231.7011497532494,\n",
       " 'Netherlands': 1232.5206854915434,\n",
       " 'Germany': 1233.4968865903897,\n",
       " 'England': 1233.501483006158,\n",
       " 'Italy': 1254.4484473432221,\n",
       " 'Spain': 1269.474788041637,\n",
       " 'Belgium': 1287.2334007131576,\n",
       " 'Portugal': 1288.3652637652528,\n",
       " 'France': 1313.1924793834614}"
      ]
     },
     "execution_count": 127,
     "metadata": {},
     "output_type": "execute_result"
    }
   ],
   "source": [
    "rankings"
   ]
  },
  {
   "cell_type": "code",
   "execution_count": null,
   "id": "broad-mention",
   "metadata": {},
   "outputs": [],
   "source": []
  }
 ],
 "metadata": {
  "kernelspec": {
   "display_name": "Python 3",
   "language": "python",
   "name": "python3"
  },
  "language_info": {
   "codemirror_mode": {
    "name": "ipython",
    "version": 3
   },
   "file_extension": ".py",
   "mimetype": "text/x-python",
   "name": "python",
   "nbconvert_exporter": "python",
   "pygments_lexer": "ipython3",
   "version": "3.8.6"
  }
 },
 "nbformat": 4,
 "nbformat_minor": 5
}
