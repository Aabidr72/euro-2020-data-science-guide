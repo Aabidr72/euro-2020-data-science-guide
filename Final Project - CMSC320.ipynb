{
 "cells": [
  {
   "cell_type": "markdown",
   "id": "equal-gateway",
   "metadata": {},
   "source": [
    "# Predicting the UEFA European Football Championship"
   ]
  },
  {
   "cell_type": "markdown",
   "id": "japanese-google",
   "metadata": {},
   "source": [
    "Tutorial by Aabid Roshan, Sid Joshi, Pranav Sivaraman"
   ]
  },
  {
   "cell_type": "code",
   "execution_count": 2,
   "id": "sensitive-anaheim",
   "metadata": {},
   "outputs": [],
   "source": [
    "import pandas as pd\n",
    "import matplotlib.pyplot as plt"
   ]
  },
  {
   "cell_type": "code",
   "execution_count": 3,
   "id": "increasing-glasgow",
   "metadata": {},
   "outputs": [],
   "source": [
    "df = pd.read_csv(\"match_results.csv\")\n",
    "df['date'] = pd.to_datetime(df['date'])"
   ]
  },
  {
   "cell_type": "markdown",
   "id": "divine-asset",
   "metadata": {},
   "source": [
    "# Creating the Ranking System"
   ]
  },
  {
   "cell_type": "code",
   "execution_count": 4,
   "id": "beginning-request",
   "metadata": {},
   "outputs": [],
   "source": [
    "teams = ['Turkey', 'Italy', 'Wales', 'Switzerland',\n",
    "         'Denmark', 'Finland', 'Belgium', 'Russia',\n",
    "         'Netherlands', 'Ukraine', 'Austria', 'North Macedonia',\n",
    "         'England', 'Croatia', 'Scotland', 'Czech Republic',\n",
    "         'Spain', 'Sweden', 'Poland', 'Slovakia',\n",
    "         'Hungary', 'Portugal', 'France', 'Germany']"
   ]
  },
  {
   "cell_type": "code",
   "execution_count": 5,
   "id": "interested-marina",
   "metadata": {},
   "outputs": [],
   "source": [
    "def initialize_elo_system(teams, initial_rating):\n",
    "    ratings = {}\n",
    "    for team in teams:\n",
    "        ratings[team] = [initial_rating]\n",
    "        \n",
    "    return ratings"
   ]
  },
  {
   "cell_type": "code",
   "execution_count": 6,
   "id": "respiratory-moses",
   "metadata": {},
   "outputs": [],
   "source": [
    "def calculate_probabilities(home_rating, away_rating, scale_factor=400):\n",
    "    p_home = 1 / (1 + 10**((away_rating - home_rating) / scale_factor))\n",
    "    p_away = 1 / (1 + 10**((home_rating - away_rating) / scale_factor)) \n",
    "    \n",
    "    return p_home, p_away"
   ]
  },
  {
   "cell_type": "code",
   "execution_count": 7,
   "id": "brazilian-alpha",
   "metadata": {},
   "outputs": [],
   "source": [
    "def calculate_rankings(matches, ratings, k_factor=22.2):\n",
    "    num_matches = len(matches)\n",
    "    home_teams, away_teams = matches['home_team'].values, matches['away_team'].values\n",
    "    home_scores, away_scores = matches['home_score'].values, matches['away_score'].values\n",
    "    \n",
    "    for i in range(num_matches):\n",
    "        home_team, away_team = home_teams[i], away_teams[i]\n",
    "        home_score, away_score = home_scores[i], away_scores[i]\n",
    "        \n",
    "        p_home, p_away = calculate_probabilities(ratings[home_team][-1], ratings[away_team][-1])\n",
    "        \n",
    "        if home_score > away_score:\n",
    "            match_result_home = 1\n",
    "            match_result_away = 0\n",
    "        elif home_score < away_score:\n",
    "            match_result_home = 0\n",
    "            match_result_away = 1\n",
    "        elif home_score == away_score:\n",
    "            match_result_home = 0.5\n",
    "            match_result_away = 0.5\n",
    "            \n",
    "        new_rating_home = ratings[home_team][-1] + k_factor * (match_result_home - p_home)\n",
    "        new_rating_away = ratings[away_team][-1] + k_factor * (match_result_away - p_away)\n",
    "        \n",
    "        ratings[home_team].append(new_rating_home)\n",
    "        ratings[away_team].append(new_rating_away)\n",
    "        \n",
    "    return ratings"
   ]
  },
  {
   "cell_type": "code",
   "execution_count": 8,
   "id": "numerical-blair",
   "metadata": {},
   "outputs": [],
   "source": [
    "def calculate_elo(teams, year_range):\n",
    "    ratings = initialize_elo_system(teams, 1200)\n",
    "    matches = df[df['home_team'].isin(teams) & df['away_team'].isin(teams)]\n",
    "    matches = matches[matches['date'].dt.year.between(year_range[0], year_range[1])]\n",
    "    new_ratings = calculate_rankings(matches, ratings)\n",
    "    rankings = {k: v[-1] for k, v in sorted(new_ratings.items(), key=lambda item: item[1][-1], reverse=True)}\n",
    "    \n",
    "    return rankings"
   ]
  },
  {
   "cell_type": "code",
   "execution_count": 11,
   "id": "alleged-contest",
   "metadata": {},
   "outputs": [
    {
     "data": {
      "text/plain": [
       "{'Spain': 1364.5183009647797,\n",
       " 'Netherlands': 1313.7134131866942,\n",
       " 'Germany': 1311.2241288528364,\n",
       " 'Croatia': 1240.5535333845992,\n",
       " 'Italy': 1239.1587366951428,\n",
       " 'France': 1232.2957884337645,\n",
       " 'England': 1226.9820451253613,\n",
       " 'Portugal': 1226.670041047823,\n",
       " 'Switzerland': 1223.7896858908427,\n",
       " 'Russia': 1213.045771738059,\n",
       " 'Turkey': 1205.615986060427,\n",
       " 'Czech Republic': 1193.2703435177937,\n",
       " 'Sweden': 1188.5366080369754,\n",
       " 'Slovakia': 1187.7533660997435,\n",
       " 'Ukraine': 1183.0565508409186,\n",
       " 'Denmark': 1165.6846236970146,\n",
       " 'Finland': 1165.6292344395317,\n",
       " 'Poland': 1159.2568534609081,\n",
       " 'Scotland': 1148.6082421430551,\n",
       " 'North Macedonia': 1138.9454850945222,\n",
       " 'Hungary': 1138.0076886006218,\n",
       " 'Belgium': 1118.97073932807,\n",
       " 'Wales': 1109.6238695003447,\n",
       " 'Austria': 1105.088963860171}"
      ]
     },
     "execution_count": 11,
     "metadata": {},
     "output_type": "execute_result"
    }
   ],
   "source": [
    "rankings = calculate_elo(teams, [2006, 2010])\n",
    "rankings"
   ]
  },
  {
   "cell_type": "code",
   "execution_count": null,
   "id": "tribal-adams",
   "metadata": {},
   "outputs": [],
   "source": []
  }
 ],
 "metadata": {
  "kernelspec": {
   "display_name": "Python 3",
   "language": "python",
   "name": "python3"
  },
  "language_info": {
   "codemirror_mode": {
    "name": "ipython",
    "version": 3
   },
   "file_extension": ".py",
   "mimetype": "text/x-python",
   "name": "python",
   "nbconvert_exporter": "python",
   "pygments_lexer": "ipython3",
   "version": "3.8.6"
  }
 },
 "nbformat": 4,
 "nbformat_minor": 5
}
