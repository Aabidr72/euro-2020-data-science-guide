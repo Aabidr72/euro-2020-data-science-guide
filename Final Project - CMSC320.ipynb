{
 "cells": [
  {
   "cell_type": "markdown",
   "id": "equal-gateway",
   "metadata": {},
   "source": [
    "<h1 align=\"center\">Predicting the UEFA European Football Championship</h1>"
   ]
  },
  {
   "cell_type": "markdown",
   "id": "japanese-google",
   "metadata": {},
   "source": [
    "<h1 style=\"font-size:12px\" align=\"center\">Tutorial by Aabid Roshan, Sid Joshi, Pranav Sivaraman</h1>"
   ]
  },
  {
   "cell_type": "markdown",
   "id": "interracial-parts",
   "metadata": {},
   "source": [
    "---"
   ]
  },
  {
   "cell_type": "markdown",
   "id": "advised-taylor",
   "metadata": {},
   "source": [
    "<h1 align=\"center\">\n",
    "    Introduction\n",
    "</h1>\n",
    "\n",
    "<h1 style=\"font-size:18px\">\n",
    "    Tournament info\n",
    "</h1>\n",
    "\n",
    "<p style=\"font-size:16px\">\n",
    "    The UEFA European Football Championship, also known as the Euros, is a tournament held by UEFA every four years which consists of countries in Europe. There are also similar competitions for other continents such as the CONCACAF Gold Cup which is held for North American international teams. Although there are many different continental competitions, the Euros are by far the most popular because the majority of the worlds best players play for European teams. Although this competition is called the 2020 Euros, it is being held in 2021 because of COVID. Currently the qualifiers for the tournment have already been played and the 24 teams that go into the tournament have already been decided. Later on you will see a list of these teams. The current reigning champions are Portugal.\n",
    "</p>\n",
    "\n",
    "<p style=\"font-size:16px\">\n",
    "    The format of the tournament starts off with a group stage where there are 6 groups of 4 teams each. During the group stage each team will play every other team twice, once at home and once away from home. Each team gets 3 points for a win, 1 for a draw, and 0 for a loss. At the end of the group stage, the top 2 teams move on to the next round and play in a standard knockout style tournament.\n",
    "</p>\n",
    "\n",
    "<h1 style=\"font-size:18px\">\n",
    "    Why do we want to predict the winner?\n",
    "</h1>\n",
    "\n",
    "<p style=\"font-size:16px\">\n",
    "    \n",
    "</p>"
   ]
  },
  {
   "cell_type": "markdown",
   "id": "superb-bouquet",
   "metadata": {},
   "source": [
    "<h1 align=\"center\">\n",
    "    Data Scraping\n",
    "</h1>\n",
    "<p style=\"font-size:16px\">\n",
    "    First off, here are the libraries we used throughout the tutorial.\n",
    "</p>"
   ]
  },
  {
   "cell_type": "code",
   "execution_count": 21,
   "id": "sensitive-anaheim",
   "metadata": {},
   "outputs": [],
   "source": [
    "import pandas as pd\n",
    "import matplotlib.pyplot as plt"
   ]
  },
  {
   "cell_type": "markdown",
   "id": "serial-pipeline",
   "metadata": {},
   "source": [
    "<h1 style=\"font-size:20px\">\n",
    "    Loading the Data\n",
    "</h1>\n",
    "<p style=\"font-size:16px\">\n",
    "    Fortunately for us, all international game data was stored in a csv file and can be downloaded from <a href=\"https://www.kaggle.com/martj42/international-football-results-from-1872-to-2017\">this website</a>. The data was created by Mart Jürisoo so extra thanks to him.   \n",
    "</p>\n",
    "<p style=\"font-size:16px\">\n",
    "    To extract the data from the file we use the pandas\n",
    "        <a href=\"https://pandas.pydata.org/docs/reference/api/pandas.read_csv.html\">read_csv</a> function and put the data into a dataframe. After extracting the data we want to convert the data column into a datetime object so it can be used to make things more convenient later on. This can be done by using the pandas <a href=\"https://pandas.pydata.org/docs/reference/api/pandas.to_datetime.html\">to_datetime</a> function.\n",
    "</p>"
   ]
  },
  {
   "cell_type": "code",
   "execution_count": 22,
   "id": "increasing-glasgow",
   "metadata": {},
   "outputs": [
    {
     "data": {
      "text/html": [
       "<div>\n",
       "<style scoped>\n",
       "    .dataframe tbody tr th:only-of-type {\n",
       "        vertical-align: middle;\n",
       "    }\n",
       "\n",
       "    .dataframe tbody tr th {\n",
       "        vertical-align: top;\n",
       "    }\n",
       "\n",
       "    .dataframe thead th {\n",
       "        text-align: right;\n",
       "    }\n",
       "</style>\n",
       "<table border=\"1\" class=\"dataframe\">\n",
       "  <thead>\n",
       "    <tr style=\"text-align: right;\">\n",
       "      <th></th>\n",
       "      <th>date</th>\n",
       "      <th>home_team</th>\n",
       "      <th>away_team</th>\n",
       "      <th>home_score</th>\n",
       "      <th>away_score</th>\n",
       "      <th>tournament</th>\n",
       "      <th>city</th>\n",
       "      <th>country</th>\n",
       "      <th>neutral</th>\n",
       "    </tr>\n",
       "  </thead>\n",
       "  <tbody>\n",
       "    <tr>\n",
       "      <th>0</th>\n",
       "      <td>1872-11-30</td>\n",
       "      <td>Scotland</td>\n",
       "      <td>England</td>\n",
       "      <td>0</td>\n",
       "      <td>0</td>\n",
       "      <td>Friendly</td>\n",
       "      <td>Glasgow</td>\n",
       "      <td>Scotland</td>\n",
       "      <td>False</td>\n",
       "    </tr>\n",
       "    <tr>\n",
       "      <th>1</th>\n",
       "      <td>1873-03-08</td>\n",
       "      <td>England</td>\n",
       "      <td>Scotland</td>\n",
       "      <td>4</td>\n",
       "      <td>2</td>\n",
       "      <td>Friendly</td>\n",
       "      <td>London</td>\n",
       "      <td>England</td>\n",
       "      <td>False</td>\n",
       "    </tr>\n",
       "    <tr>\n",
       "      <th>2</th>\n",
       "      <td>1874-03-07</td>\n",
       "      <td>Scotland</td>\n",
       "      <td>England</td>\n",
       "      <td>2</td>\n",
       "      <td>1</td>\n",
       "      <td>Friendly</td>\n",
       "      <td>Glasgow</td>\n",
       "      <td>Scotland</td>\n",
       "      <td>False</td>\n",
       "    </tr>\n",
       "    <tr>\n",
       "      <th>3</th>\n",
       "      <td>1875-03-06</td>\n",
       "      <td>England</td>\n",
       "      <td>Scotland</td>\n",
       "      <td>2</td>\n",
       "      <td>2</td>\n",
       "      <td>Friendly</td>\n",
       "      <td>London</td>\n",
       "      <td>England</td>\n",
       "      <td>False</td>\n",
       "    </tr>\n",
       "    <tr>\n",
       "      <th>4</th>\n",
       "      <td>1876-03-04</td>\n",
       "      <td>Scotland</td>\n",
       "      <td>England</td>\n",
       "      <td>3</td>\n",
       "      <td>0</td>\n",
       "      <td>Friendly</td>\n",
       "      <td>Glasgow</td>\n",
       "      <td>Scotland</td>\n",
       "      <td>False</td>\n",
       "    </tr>\n",
       "    <tr>\n",
       "      <th>...</th>\n",
       "      <td>...</td>\n",
       "      <td>...</td>\n",
       "      <td>...</td>\n",
       "      <td>...</td>\n",
       "      <td>...</td>\n",
       "      <td>...</td>\n",
       "      <td>...</td>\n",
       "      <td>...</td>\n",
       "      <td>...</td>\n",
       "    </tr>\n",
       "    <tr>\n",
       "      <th>42079</th>\n",
       "      <td>2021-03-31</td>\n",
       "      <td>Andorra</td>\n",
       "      <td>Hungary</td>\n",
       "      <td>1</td>\n",
       "      <td>4</td>\n",
       "      <td>FIFA World Cup qualification</td>\n",
       "      <td>Andorra la Vella</td>\n",
       "      <td>Andorra</td>\n",
       "      <td>False</td>\n",
       "    </tr>\n",
       "    <tr>\n",
       "      <th>42080</th>\n",
       "      <td>2021-03-31</td>\n",
       "      <td>San Marino</td>\n",
       "      <td>Albania</td>\n",
       "      <td>0</td>\n",
       "      <td>2</td>\n",
       "      <td>FIFA World Cup qualification</td>\n",
       "      <td>Serravalle</td>\n",
       "      <td>San Marino</td>\n",
       "      <td>False</td>\n",
       "    </tr>\n",
       "    <tr>\n",
       "      <th>42081</th>\n",
       "      <td>2021-03-31</td>\n",
       "      <td>Armenia</td>\n",
       "      <td>Romania</td>\n",
       "      <td>3</td>\n",
       "      <td>2</td>\n",
       "      <td>FIFA World Cup qualification</td>\n",
       "      <td>Yerevan</td>\n",
       "      <td>Armenia</td>\n",
       "      <td>False</td>\n",
       "    </tr>\n",
       "    <tr>\n",
       "      <th>42082</th>\n",
       "      <td>2021-03-31</td>\n",
       "      <td>Germany</td>\n",
       "      <td>North Macedonia</td>\n",
       "      <td>1</td>\n",
       "      <td>2</td>\n",
       "      <td>FIFA World Cup qualification</td>\n",
       "      <td>Duisburg</td>\n",
       "      <td>Germany</td>\n",
       "      <td>False</td>\n",
       "    </tr>\n",
       "    <tr>\n",
       "      <th>42083</th>\n",
       "      <td>2021-03-31</td>\n",
       "      <td>Liechtenstein</td>\n",
       "      <td>Iceland</td>\n",
       "      <td>1</td>\n",
       "      <td>4</td>\n",
       "      <td>FIFA World Cup qualification</td>\n",
       "      <td>Vaduz</td>\n",
       "      <td>Liechtenstein</td>\n",
       "      <td>False</td>\n",
       "    </tr>\n",
       "  </tbody>\n",
       "</table>\n",
       "<p>42084 rows × 9 columns</p>\n",
       "</div>"
      ],
      "text/plain": [
       "            date      home_team        away_team  home_score  away_score  \\\n",
       "0     1872-11-30       Scotland          England           0           0   \n",
       "1     1873-03-08        England         Scotland           4           2   \n",
       "2     1874-03-07       Scotland          England           2           1   \n",
       "3     1875-03-06        England         Scotland           2           2   \n",
       "4     1876-03-04       Scotland          England           3           0   \n",
       "...          ...            ...              ...         ...         ...   \n",
       "42079 2021-03-31        Andorra          Hungary           1           4   \n",
       "42080 2021-03-31     San Marino          Albania           0           2   \n",
       "42081 2021-03-31        Armenia          Romania           3           2   \n",
       "42082 2021-03-31        Germany  North Macedonia           1           2   \n",
       "42083 2021-03-31  Liechtenstein          Iceland           1           4   \n",
       "\n",
       "                         tournament              city        country  neutral  \n",
       "0                          Friendly           Glasgow       Scotland    False  \n",
       "1                          Friendly            London        England    False  \n",
       "2                          Friendly           Glasgow       Scotland    False  \n",
       "3                          Friendly            London        England    False  \n",
       "4                          Friendly           Glasgow       Scotland    False  \n",
       "...                             ...               ...            ...      ...  \n",
       "42079  FIFA World Cup qualification  Andorra la Vella        Andorra    False  \n",
       "42080  FIFA World Cup qualification        Serravalle     San Marino    False  \n",
       "42081  FIFA World Cup qualification           Yerevan        Armenia    False  \n",
       "42082  FIFA World Cup qualification          Duisburg        Germany    False  \n",
       "42083  FIFA World Cup qualification             Vaduz  Liechtenstein    False  \n",
       "\n",
       "[42084 rows x 9 columns]"
      ]
     },
     "execution_count": 22,
     "metadata": {},
     "output_type": "execute_result"
    }
   ],
   "source": [
    "df = pd.read_csv(\"match_results.csv\")\n",
    "df['date'] = pd.to_datetime(df['date'])\n",
    "df"
   ]
  },
  {
   "cell_type": "markdown",
   "id": "rolled-abuse",
   "metadata": {},
   "source": [
    "<p style=\"font-size:16px\">\n",
    "    This is the data we will be using going forward. Below is a list of what each column represents.\n",
    "    <ol>\n",
    "        <li><b>date:</b> The date of the match</li>\n",
    "        <li><b>home_team:</b> The home team</li>\n",
    "        <li><b>away_team:</b> The away team</li>\n",
    "        <li><b>home_score:</b> The number of goals scored by the home team</li>\n",
    "        <li><b>away_score:</b> The number of goals scored by the away team</li>\n",
    "        <li><b>tournament:</b> This is the name of the competition the match was played in. This could range anywhere from a simple friendly to a Worl Cup Final game. There are many different competitions around the world</li>\n",
    "        <li><b>city:</b> The city the game was played in</li>\n",
    "        <li><b>country:</b> The country the game was played in</li>\n",
    "        <li><b>neutral:</b> This is whether or not the game was played at a neutral stadium. A neutral stadium is when neither team is home nor away. Both teams must travel to a stadium that is not their own</li>\n",
    "    </ol>\n",
    "</p>"
   ]
  },
  {
   "cell_type": "markdown",
   "id": "passing-corner",
   "metadata": {},
   "source": [
    "---"
   ]
  },
  {
   "cell_type": "markdown",
   "id": "divine-asset",
   "metadata": {},
   "source": [
    "<h1 align=\"center\">\n",
    "    Data Management/Representation\n",
    "</h1>\n",
    "\n",
    "<h1 style=\"font-size:18px\">\n",
    "    Creating the Ranking System\n",
    "</h1>\n",
    "\n",
    "<p style=\"font-size:16px\">\n",
    "    These are a list of the teams we are going to look at. The current list of teams below was chosen based on the qualifiers for the upcoming 2020 UEFA European Football Championship. These are the teams that qualified for said tournament. The teams can be changed if need be.\n",
    "</p>"
   ]
  },
  {
   "cell_type": "code",
   "execution_count": 23,
   "id": "beginning-request",
   "metadata": {},
   "outputs": [],
   "source": [
    "teams = ['Turkey', 'Italy', 'Wales', 'Switzerland',\n",
    "         'Denmark', 'Finland', 'Belgium', 'Russia',\n",
    "         'Netherlands', 'Ukraine', 'Austria', 'North Macedonia',\n",
    "         'England', 'Croatia', 'Scotland', 'Czech Republic',\n",
    "         'Spain', 'Sweden', 'Poland', 'Slovakia',\n",
    "         'Hungary', 'Portugal', 'France', 'Germany']"
   ]
  },
  {
   "cell_type": "markdown",
   "id": "iraqi-cache",
   "metadata": {},
   "source": [
    "<p style=\"font-size:16px\">\n",
    "    The methods below are used to calculate the elo of respective teams as used by FIFA. \n",
    "For more information on the math behind the calculations look at <a href=\"https://en.wikipedia.org/wiki/World_Football_Elo_Ratings\">this link</a>\n",
    "</p>"
   ]
  },
  {
   "cell_type": "code",
   "execution_count": 32,
   "id": "interested-marina",
   "metadata": {},
   "outputs": [],
   "source": [
    "def initialize_elo_system(teams, initial_rating):\n",
    "    ratings = {}\n",
    "    for team in teams:\n",
    "        ratings[team] = [initial_rating]\n",
    "        \n",
    "    return ratings"
   ]
  },
  {
   "cell_type": "code",
   "execution_count": 33,
   "id": "banner-parcel",
   "metadata": {},
   "outputs": [],
   "source": [
    "def calculate_probabilities(home_rating, away_rating, scale_factor=400):\n",
    "    p_home = 1 / (1 + 10**((away_rating - home_rating) / scale_factor))\n",
    "    p_away = 1 / (1 + 10**((home_rating - away_rating) / scale_factor)) \n",
    "    \n",
    "    return p_home, p_away"
   ]
  },
  {
   "cell_type": "code",
   "execution_count": 34,
   "id": "differential-survival",
   "metadata": {},
   "outputs": [],
   "source": [
    "def calculate_rankings(matches, ratings, k_factor=22.2):\n",
    "    num_matches = len(matches)\n",
    "    home_teams, away_teams = matches['home_team'].values, matches['away_team'].values\n",
    "    home_scores, away_scores = matches['home_score'].values, matches['away_score'].values\n",
    "    \n",
    "    for i in range(num_matches):\n",
    "        home_team, away_team = home_teams[i], away_teams[i]\n",
    "        home_score, away_score = home_scores[i], away_scores[i]\n",
    "        \n",
    "        p_home, p_away = calculate_probabilities(ratings[home_team][-1], ratings[away_team][-1])\n",
    "        \n",
    "        if home_score > away_score:\n",
    "            match_result_home = 1\n",
    "            match_result_away = 0\n",
    "        elif home_score < away_score:\n",
    "            match_result_home = 0\n",
    "            match_result_away = 1\n",
    "        elif home_score == away_score:\n",
    "            match_result_home = 0.5\n",
    "            match_result_away = 0.5\n",
    "            \n",
    "        new_rating_home = ratings[home_team][-1] + k_factor * (match_result_home - p_home)\n",
    "        new_rating_away = ratings[away_team][-1] + k_factor * (match_result_away - p_away)\n",
    "        \n",
    "        ratings[home_team].append(new_rating_home)\n",
    "        ratings[away_team].append(new_rating_away)\n",
    "        \n",
    "    return ratings"
   ]
  },
  {
   "cell_type": "code",
   "execution_count": 35,
   "id": "administrative-production",
   "metadata": {},
   "outputs": [],
   "source": [
    "def calculate_elo(teams, year_range, initial_rating=1200):\n",
    "    ratings = initialize_elo_system(teams, initial_rating)\n",
    "    matches = df[df['home_team'].isin(teams) & df['away_team'].isin(teams)]\n",
    "    matches = matches[matches['date'].dt.year.between(year_range[0], year_range[1])]\n",
    "    new_ratings = calculate_rankings(matches, ratings)\n",
    "    rankings = {k: v[-1] for k, v in sorted(new_ratings.items(), key=lambda item: item[1][-1], reverse=True)}\n",
    "    \n",
    "    return rankings"
   ]
  },
  {
   "cell_type": "code",
   "execution_count": 36,
   "id": "alleged-contest",
   "metadata": {},
   "outputs": [
    {
     "data": {
      "text/plain": [
       "{'Spain': 1364.5183009647797,\n",
       " 'Netherlands': 1313.7134131866942,\n",
       " 'Germany': 1311.2241288528364,\n",
       " 'Croatia': 1240.5535333845992,\n",
       " 'Italy': 1239.1587366951428,\n",
       " 'France': 1232.2957884337645,\n",
       " 'England': 1226.9820451253613,\n",
       " 'Portugal': 1226.670041047823,\n",
       " 'Switzerland': 1223.7896858908427,\n",
       " 'Russia': 1213.045771738059,\n",
       " 'Turkey': 1205.615986060427,\n",
       " 'Czech Republic': 1193.2703435177937,\n",
       " 'Sweden': 1188.5366080369754,\n",
       " 'Slovakia': 1187.7533660997435,\n",
       " 'Ukraine': 1183.0565508409186,\n",
       " 'Denmark': 1165.6846236970146,\n",
       " 'Finland': 1165.6292344395317,\n",
       " 'Poland': 1159.2568534609081,\n",
       " 'Scotland': 1148.6082421430551,\n",
       " 'North Macedonia': 1138.9454850945222,\n",
       " 'Hungary': 1138.0076886006218,\n",
       " 'Belgium': 1118.97073932807,\n",
       " 'Wales': 1109.6238695003447,\n",
       " 'Austria': 1105.088963860171}"
      ]
     },
     "execution_count": 36,
     "metadata": {},
     "output_type": "execute_result"
    }
   ],
   "source": [
    "rankings = calculate_elo(teams, [2006, 2010])\n",
    "rankings"
   ]
  },
  {
   "cell_type": "markdown",
   "id": "animal-dairy",
   "metadata": {},
   "source": [
    "---\n",
    "# Seeing if being at home gives teams an advantage"
   ]
  },
  {
   "cell_type": "code",
   "execution_count": 28,
   "id": "heavy-dover",
   "metadata": {},
   "outputs": [],
   "source": [
    "def calculate_home_percentages(year_range=None):\n",
    "    \n",
    "    # This method calculates winning/non-losing percentages for home teams\n",
    "    #\n",
    "    #\n",
    "    # Inputs:\n",
    "    #     year_range: An array containing two elements [start, end]\n",
    "    #                 No input will calculate from all years\n",
    "    #\n",
    "    # Outputs: \n",
    "    #     W: win rate of the home team\n",
    "    #     U: non-losing percentages of the home team (Undefeated percentages)\n",
    "    \n",
    "    home_win = 0\n",
    "    draw = 0\n",
    "    total = 0\n",
    "    \n",
    "    nonneutral = df[df['neutral'] == False]\n",
    "    if year_range != None:\n",
    "        nonneutral = nonneutral[nonneutral['date'].dt.year.between(year_range[0], year_range[1])]\n",
    "\n",
    "    for index, row in nonneutral.iterrows():\n",
    "        if row['home_score'] > row['away_score']:\n",
    "            home_win += 1\n",
    "        elif row['home_score'] == row['away_score']:\n",
    "            draw += 1\n",
    "        total += 1\n",
    "\n",
    "    return (home_win/total*100, (home_win+draw)/total*100)"
   ]
  },
  {
   "cell_type": "code",
   "execution_count": 29,
   "id": "working-virgin",
   "metadata": {},
   "outputs": [
    {
     "data": {
      "text/plain": [
       "(50.42236651326988, 73.55481308705794)"
      ]
     },
     "execution_count": 29,
     "metadata": {},
     "output_type": "execute_result"
    }
   ],
   "source": [
    "calculate_home_percentages()"
   ]
  },
  {
   "cell_type": "code",
   "execution_count": null,
   "id": "signed-footage",
   "metadata": {},
   "outputs": [],
   "source": []
  }
 ],
 "metadata": {
  "kernelspec": {
   "display_name": "Python 3",
   "language": "python",
   "name": "python3"
  },
  "language_info": {
   "codemirror_mode": {
    "name": "ipython",
    "version": 3
   },
   "file_extension": ".py",
   "mimetype": "text/x-python",
   "name": "python",
   "nbconvert_exporter": "python",
   "pygments_lexer": "ipython3",
   "version": "3.8.6"
  }
 },
 "nbformat": 4,
 "nbformat_minor": 5
}
