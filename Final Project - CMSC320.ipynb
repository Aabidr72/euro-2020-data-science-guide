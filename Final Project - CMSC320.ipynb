{
 "cells": [
  {
   "cell_type": "markdown",
   "id": "equal-gateway",
   "metadata": {},
   "source": [
    "# Predicting the UEFA European Football Championship"
   ]
  },
  {
   "cell_type": "markdown",
   "id": "japanese-google",
   "metadata": {},
   "source": [
    "Tutorial by Aabid Roshan, Sid Joshi, Pranav Sivaraman"
   ]
  },
  {
   "cell_type": "code",
   "execution_count": 46,
   "id": "sensitive-anaheim",
   "metadata": {},
   "outputs": [],
   "source": [
    "import pandas as pd\n",
    "import matplotlib.pyplot as plt"
   ]
  },
  {
   "cell_type": "code",
   "execution_count": 2,
   "id": "increasing-glasgow",
   "metadata": {},
   "outputs": [],
   "source": [
    "df = pd.read_csv(\"match_results.csv\")\n",
    "df['date'] = pd.to_datetime(df['date'])"
   ]
  },
  {
   "cell_type": "markdown",
   "id": "divine-asset",
   "metadata": {},
   "source": [
    "# Creating the Ranking System"
   ]
  },
  {
   "cell_type": "code",
   "execution_count": 17,
   "id": "beginning-request",
   "metadata": {},
   "outputs": [],
   "source": [
    "teams = ['Turkey', 'Italy', 'Wales', 'Switzerland',\n",
    "         'Denmark', 'Finland', 'Belgium', 'Russia',\n",
    "         'Netherlands', 'Ukraine', 'Austria', 'North Macedonia',\n",
    "         'England', 'Croatia', 'Scotland', 'Czech Republic',\n",
    "         'Spain', 'Sweden', 'Poland', 'Slovakia',\n",
    "         'Hungary', 'Portugal', 'France', 'Germany']"
   ]
  },
  {
   "cell_type": "code",
   "execution_count": 18,
   "id": "interested-marina",
   "metadata": {},
   "outputs": [],
   "source": [
    "def initialize_elo_system(teams, initial_rating):\n",
    "    ratings = {}\n",
    "    for team in teams:\n",
    "        ratings[team] = [initial_rating]\n",
    "        \n",
    "    return ratings"
   ]
  },
  {
   "cell_type": "code",
   "execution_count": 19,
   "id": "respiratory-moses",
   "metadata": {},
   "outputs": [],
   "source": [
    "def calculate_probabilities(home_rating, away_rating, scale_factor=400):\n",
    "    p_home = 1 / (1 + 10**((away_rating - home_rating) / scale_factor))\n",
    "    p_away = 1 / (1 + 10**((home_rating - away_rating) / scale_factor)) \n",
    "    \n",
    "    return p_home, p_away"
   ]
  },
  {
   "cell_type": "code",
   "execution_count": 22,
   "id": "brazilian-alpha",
   "metadata": {},
   "outputs": [],
   "source": [
    "def calculate_rankings(matches, ratings, k_factor=22.2):\n",
    "    num_matches = len(matches)\n",
    "    home_teams, away_teams = matches['home_team'].values, matches['away_team'].values\n",
    "    home_scores, away_scores = matches['home_score'].values, matches['away_score'].values\n",
    "    \n",
    "    for i in range(num_matches):\n",
    "        home_team, away_team = home_teams[i], away_teams[i]\n",
    "        home_score, away_score = home_scores[i], away_scores[i]\n",
    "        \n",
    "        p_home, p_away = calculate_probabilities(ratings[home_team][-1], ratings[away_team][-1])\n",
    "        \n",
    "        if home_score > away_score:\n",
    "            match_result_home = 1\n",
    "            match_result_away = 0\n",
    "        elif home_score < away_score:\n",
    "            match_result_home = 0\n",
    "            match_result_away = 1\n",
    "        elif home_score == away_score:\n",
    "            match_result_home = 0.5\n",
    "            match_result_away = 0.5\n",
    "            \n",
    "        new_rating_home = ratings[home_team][-1] + k_factor * (match_result_home - p_home)\n",
    "        new_rating_away = ratings[away_team][-1] + k_factor * (match_result_away - p_away)\n",
    "        \n",
    "        ratings[home_team].append(new_rating_home)\n",
    "        ratings[away_team].append(new_rating_away)\n",
    "        \n",
    "    return ratings"
   ]
  },
  {
   "cell_type": "code",
   "execution_count": 43,
   "id": "numerical-blair",
   "metadata": {},
   "outputs": [],
   "source": [
    "ratings = initialize_elo_system(teams, 1200)\n",
    "matches = df[df['home_team'].isin(teams) & df['away_team'].isin(teams)]\n",
    "matches = matches[matches['date'].dt.year >= 2016]\n",
    "new_ratings = calculate_rankings(matches, ratings)\n",
    "rankings = {k: v[-1] for k, v in sorted(new_ratings.items(), key=lambda item: item[1][-1], reverse=True)}"
   ]
  },
  {
   "cell_type": "code",
   "execution_count": 44,
   "id": "alleged-contest",
   "metadata": {},
   "outputs": [
    {
     "data": {
      "text/plain": [
       "{'France': 1313.1924793834614,\n",
       " 'Portugal': 1288.3652637652528,\n",
       " 'Belgium': 1287.2334007131576,\n",
       " 'Spain': 1269.474788041637,\n",
       " 'Italy': 1254.4484473432221,\n",
       " 'England': 1233.501483006158,\n",
       " 'Germany': 1233.4968865903897,\n",
       " 'Netherlands': 1232.5206854915434,\n",
       " 'Denmark': 1231.7011497532494,\n",
       " 'Croatia': 1204.113028313914,\n",
       " 'Turkey': 1196.2730739269941,\n",
       " 'Ukraine': 1193.182745637513,\n",
       " 'Poland': 1186.7665477282073,\n",
       " 'Austria': 1182.4672188472784,\n",
       " 'Wales': 1177.3990750993348,\n",
       " 'Switzerland': 1173.1100439669417,\n",
       " 'Sweden': 1159.9417539436076,\n",
       " 'Scotland': 1156.1437458786165,\n",
       " 'Czech Republic': 1147.720106975519,\n",
       " 'Russia': 1145.9700150236488,\n",
       " 'North Macedonia': 1145.836863022899,\n",
       " 'Slovakia': 1143.136559167868,\n",
       " 'Hungary': 1137.0885735619433,\n",
       " 'Finland': 1106.9160648176423}"
      ]
     },
     "execution_count": 44,
     "metadata": {},
     "output_type": "execute_result"
    }
   ],
   "source": [
    "rankings"
   ]
  }
 ],
 "metadata": {
  "kernelspec": {
   "display_name": "Python 3",
   "language": "python",
   "name": "python3"
  },
  "language_info": {
   "codemirror_mode": {
    "name": "ipython",
    "version": 3
   },
   "file_extension": ".py",
   "mimetype": "text/x-python",
   "name": "python",
   "nbconvert_exporter": "python",
   "pygments_lexer": "ipython3",
   "version": "3.8.6"
  }
 },
 "nbformat": 4,
 "nbformat_minor": 5
}
