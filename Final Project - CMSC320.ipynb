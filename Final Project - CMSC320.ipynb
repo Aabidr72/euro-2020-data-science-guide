{
 "cells": [
  {
   "cell_type": "markdown",
   "id": "miniature-parcel",
   "metadata": {},
   "source": [
    "<h1 align=\"center\">Predicting the UEFA European Football Championship</h1>"
   ]
  },
  {
   "cell_type": "markdown",
   "id": "accessible-charlotte",
   "metadata": {},
   "source": [
    "<h1 style=\"font-size:12px\" align=\"center\">Tutorial by Aabid Roshan, Sid Joshi, Pranav Sivaraman</h1>"
   ]
  },
  {
   "cell_type": "markdown",
   "id": "grateful-liberty",
   "metadata": {},
   "source": [
    "---"
   ]
  },
  {
   "cell_type": "markdown",
   "id": "crazy-coordinator",
   "metadata": {},
   "source": [
    "<h1 align=\"center\">\n",
    "    Introduction\n",
    "</h1>\n",
    "\n",
    "<h1 style=\"font-size:18px\">\n",
    "    Tournament info\n",
    "</h1>\n",
    "\n",
    "<p style=\"font-size:16px\">\n",
    "    The UEFA European Football Championship, also known as the Euros, is a tournament held by UEFA every four years which consists of countries in Europe. There are also similar competitions for other continents such as the CONCACAF Gold Cup which is held for North American international teams. Although there are many different continental competitions, the Euros are by far the most popular because the majority of the worlds best players play for European teams. Although this competition is called the 2020 Euros, it is being held in 2021 because of COVID. Currently the qualifiers for the tournment have already been played and the 24 teams that go into the tournament have already been decided. Later on you will see a list of these teams. The current reigning champions are Portugal.\n",
    "</p>\n",
    "\n",
    "<p style=\"font-size:16px\">\n",
    "    The format of the tournament starts off with a group stage where there are 6 groups of 4 teams each. During the group stage each team will play every other team twice, once at home and once away from home. Each team gets 3 points for a win, 1 for a draw, and 0 for a loss. At the end of the group stage, the top 2 teams move on to the next round and play in a standard knockout style tournament.\n",
    "</p>\n",
    "\n",
    "<h1 style=\"font-size:18px\">\n",
    "    Why do we want to predict the winner?\n",
    "</h1>\n",
    "\n",
    "<p style=\"font-size:16px\">\n",
    "    This is a pretty easy question to answer. Like with many other popular tournaments there are many uses for predicting the winner from something a trivial as bragging rights all the way to deciding which team to bet on to win the whole thing.\n",
    "</p>"
   ]
  },
  {
   "cell_type": "markdown",
   "id": "lesser-lithuania",
   "metadata": {},
   "source": [
    "<h1 align=\"center\">\n",
    "    Data Scraping\n",
    "</h1>\n",
    "<p style=\"font-size:16px\">\n",
    "    First off, here are the libraries we used throughout the tutorial.\n",
    "</p>"
   ]
  },
  {
   "cell_type": "code",
   "execution_count": 1,
   "id": "premium-intake",
   "metadata": {},
   "outputs": [
    {
     "name": "stdout",
     "output_type": "stream",
     "text": [
      "Requirement already satisfied: kaggle in /home/psivaram/anaconda3/lib/python3.7/site-packages (1.5.12)\n",
      "Requirement already satisfied: urllib3 in /home/psivaram/anaconda3/lib/python3.7/site-packages (from kaggle) (1.26.3)\n",
      "Requirement already satisfied: certifi in /home/psivaram/anaconda3/lib/python3.7/site-packages (from kaggle) (2020.12.5)\n",
      "Requirement already satisfied: six>=1.10 in /home/psivaram/anaconda3/lib/python3.7/site-packages (from kaggle) (1.15.0)\n",
      "Requirement already satisfied: requests in /home/psivaram/anaconda3/lib/python3.7/site-packages (from kaggle) (2.25.1)\n",
      "Requirement already satisfied: python-slugify in /home/psivaram/anaconda3/lib/python3.7/site-packages (from kaggle) (5.0.2)\n",
      "Requirement already satisfied: tqdm in /home/psivaram/anaconda3/lib/python3.7/site-packages (from kaggle) (4.56.0)\n",
      "Requirement already satisfied: python-dateutil in /home/psivaram/anaconda3/lib/python3.7/site-packages (from kaggle) (2.8.1)\n",
      "Requirement already satisfied: text-unidecode>=1.3 in /home/psivaram/anaconda3/lib/python3.7/site-packages (from python-slugify->kaggle) (1.3)\n",
      "Requirement already satisfied: chardet<5,>=3.0.2 in /home/psivaram/anaconda3/lib/python3.7/site-packages (from requests->kaggle) (4.0.0)\n",
      "Requirement already satisfied: idna<3,>=2.5 in /home/psivaram/anaconda3/lib/python3.7/site-packages (from requests->kaggle) (2.10)\n",
      "mkdir: cannot create directory ‘/home/psivaram/.kaggle’: File exists\n",
      "international-football-results-from-1872-to-2017.zip: Skipping, found more recently modified local copy (use --force to force download)\n"
     ]
    }
   ],
   "source": [
    "!pip install kaggle\n",
    "!mkdir ~/.kaggle\n",
    "!cp kaggle.json ~/.kaggle/\n",
    "!chmod 7600 ~/.kaggle/kaggle.json\n",
    "!kaggle datasets download -d martj42/international-football-results-from-1872-to-2017"
   ]
  },
  {
   "cell_type": "code",
   "execution_count": 2,
   "id": "australian-closure",
   "metadata": {},
   "outputs": [
    {
     "name": "stdout",
     "output_type": "stream",
     "text": [
      "Archive:  international-football-results-from-1872-to-2017.zip\n",
      "replace results.csv? [y]es, [n]o, [A]ll, [N]one, [r]ename: ^C\n"
     ]
    }
   ],
   "source": [
    "!unzip international-football-results-from-1872-to-2017.zip"
   ]
  },
  {
   "cell_type": "code",
   "execution_count": 27,
   "id": "secret-monday",
   "metadata": {},
   "outputs": [],
   "source": [
    "import pandas as pd\n",
    "import numpy as np\n",
    "import matplotlib.pyplot as plt\n",
    "from datetime import date\n",
    "\n",
    "plt.style.use('seaborn')"
   ]
  },
  {
   "cell_type": "markdown",
   "id": "wanted-sample",
   "metadata": {},
   "source": [
    "<h1 style=\"font-size:20px\">\n",
    "    Loading the Data\n",
    "</h1>\n",
    "<p style=\"font-size:16px\">\n",
    "    Fortunately for us, all international game data was stored in a csv file and can be downloaded from <a href=\"https://www.kaggle.com/martj42/international-football-results-from-1872-to-2017\">this website</a>. The data was created by Mart Jürisoo so extra thanks to him.   \n",
    "</p>\n",
    "<p style=\"font-size:16px\">\n",
    "    To extract the data from the file we use the pandas\n",
    "        <a href=\"https://pandas.pydata.org/docs/reference/api/pandas.read_csv.html\">read_csv</a> function and put the data into a dataframe. After extracting the data we want to convert the data column into a datetime object so it can be used to make things more convenient later on. This can be done by using the pandas <a href=\"https://pandas.pydata.org/docs/reference/api/pandas.to_datetime.html\">to_datetime</a> function.\n",
    "</p>"
   ]
  },
  {
   "cell_type": "code",
   "execution_count": 28,
   "id": "armed-dakota",
   "metadata": {},
   "outputs": [
    {
     "data": {
      "text/html": [
       "<div>\n",
       "<style scoped>\n",
       "    .dataframe tbody tr th:only-of-type {\n",
       "        vertical-align: middle;\n",
       "    }\n",
       "\n",
       "    .dataframe tbody tr th {\n",
       "        vertical-align: top;\n",
       "    }\n",
       "\n",
       "    .dataframe thead th {\n",
       "        text-align: right;\n",
       "    }\n",
       "</style>\n",
       "<table border=\"1\" class=\"dataframe\">\n",
       "  <thead>\n",
       "    <tr style=\"text-align: right;\">\n",
       "      <th></th>\n",
       "      <th>date</th>\n",
       "      <th>home_team</th>\n",
       "      <th>away_team</th>\n",
       "      <th>home_score</th>\n",
       "      <th>away_score</th>\n",
       "      <th>tournament</th>\n",
       "      <th>city</th>\n",
       "      <th>country</th>\n",
       "      <th>neutral</th>\n",
       "    </tr>\n",
       "  </thead>\n",
       "  <tbody>\n",
       "    <tr>\n",
       "      <th>0</th>\n",
       "      <td>1872-11-30</td>\n",
       "      <td>Scotland</td>\n",
       "      <td>England</td>\n",
       "      <td>0</td>\n",
       "      <td>0</td>\n",
       "      <td>Friendly</td>\n",
       "      <td>Glasgow</td>\n",
       "      <td>Scotland</td>\n",
       "      <td>False</td>\n",
       "    </tr>\n",
       "    <tr>\n",
       "      <th>1</th>\n",
       "      <td>1873-03-08</td>\n",
       "      <td>England</td>\n",
       "      <td>Scotland</td>\n",
       "      <td>4</td>\n",
       "      <td>2</td>\n",
       "      <td>Friendly</td>\n",
       "      <td>London</td>\n",
       "      <td>England</td>\n",
       "      <td>False</td>\n",
       "    </tr>\n",
       "    <tr>\n",
       "      <th>2</th>\n",
       "      <td>1874-03-07</td>\n",
       "      <td>Scotland</td>\n",
       "      <td>England</td>\n",
       "      <td>2</td>\n",
       "      <td>1</td>\n",
       "      <td>Friendly</td>\n",
       "      <td>Glasgow</td>\n",
       "      <td>Scotland</td>\n",
       "      <td>False</td>\n",
       "    </tr>\n",
       "    <tr>\n",
       "      <th>3</th>\n",
       "      <td>1875-03-06</td>\n",
       "      <td>England</td>\n",
       "      <td>Scotland</td>\n",
       "      <td>2</td>\n",
       "      <td>2</td>\n",
       "      <td>Friendly</td>\n",
       "      <td>London</td>\n",
       "      <td>England</td>\n",
       "      <td>False</td>\n",
       "    </tr>\n",
       "    <tr>\n",
       "      <th>4</th>\n",
       "      <td>1876-03-04</td>\n",
       "      <td>Scotland</td>\n",
       "      <td>England</td>\n",
       "      <td>3</td>\n",
       "      <td>0</td>\n",
       "      <td>Friendly</td>\n",
       "      <td>Glasgow</td>\n",
       "      <td>Scotland</td>\n",
       "      <td>False</td>\n",
       "    </tr>\n",
       "  </tbody>\n",
       "</table>\n",
       "</div>"
      ],
      "text/plain": [
       "        date home_team away_team  home_score  away_score tournament     city  \\\n",
       "0 1872-11-30  Scotland   England           0           0   Friendly  Glasgow   \n",
       "1 1873-03-08   England  Scotland           4           2   Friendly   London   \n",
       "2 1874-03-07  Scotland   England           2           1   Friendly  Glasgow   \n",
       "3 1875-03-06   England  Scotland           2           2   Friendly   London   \n",
       "4 1876-03-04  Scotland   England           3           0   Friendly  Glasgow   \n",
       "\n",
       "    country  neutral  \n",
       "0  Scotland    False  \n",
       "1   England    False  \n",
       "2  Scotland    False  \n",
       "3   England    False  \n",
       "4  Scotland    False  "
      ]
     },
     "execution_count": 28,
     "metadata": {},
     "output_type": "execute_result"
    }
   ],
   "source": [
    "df = pd.read_csv(\"results.csv\")\n",
    "df['date'] = pd.to_datetime(df['date'])\n",
    "df.head(5)"
   ]
  },
  {
   "cell_type": "markdown",
   "id": "unlikely-saying",
   "metadata": {},
   "source": [
    "<p style=\"font-size:16px\">\n",
    "    This is the data we will be using going forward. Below is a list of what each column represents.\n",
    "    <ol>\n",
    "        <li><b>date:</b> The date of the match</li>\n",
    "        <li><b>home_team:</b> The home team</li>\n",
    "        <li><b>away_team:</b> The away team</li>\n",
    "        <li><b>home_score:</b> The number of goals scored by the home team</li>\n",
    "        <li><b>away_score:</b> The number of goals scored by the away team</li>\n",
    "        <li><b>tournament:</b> This is the name of the competition the match was played in. This could range anywhere from a simple friendly to a Worl Cup Final game. There are many different competitions around the world</li>\n",
    "        <li><b>city:</b> The city the game was played in</li>\n",
    "        <li><b>country:</b> The country the game was played in</li>\n",
    "        <li><b>neutral:</b> This is whether or not the game was played at a neutral stadium. A neutral stadium is when neither team is home nor away. Both teams must travel to a stadium that is not their own</li>\n",
    "    </ol>\n",
    "</p>"
   ]
  },
  {
   "cell_type": "markdown",
   "id": "indian-elimination",
   "metadata": {},
   "source": [
    "---"
   ]
  },
  {
   "cell_type": "markdown",
   "id": "passing-criterion",
   "metadata": {},
   "source": [
    "<h1 align=\"center\">\n",
    "    Exploratory Data Analysis\n",
    "</h1>\n",
    "\n",
    "<h1 style=\"font-size:18px\">\n",
    "    Creating the Ranking System\n",
    "</h1>\n",
    "\n",
    "<p style=\"font-size:16px\">\n",
    "    These are a list of the teams we are going to look at. The current list of teams below was chosen based on the qualifiers for the upcoming 2020 UEFA European Football Championship. These are the teams that qualified for said tournament. The teams can be changed if need be.\n",
    "</p>"
   ]
  },
  {
   "cell_type": "code",
   "execution_count": 29,
   "id": "yellow-alloy",
   "metadata": {},
   "outputs": [],
   "source": [
    "teams = ['Turkey', 'Italy', 'Wales', 'Switzerland',\n",
    "         'Denmark', 'Finland', 'Belgium', 'Russia',\n",
    "         'Netherlands', 'Ukraine', 'Austria', 'North Macedonia',\n",
    "         'England', 'Croatia', 'Scotland', 'Czech Republic',\n",
    "         'Spain', 'Sweden', 'Poland', 'Slovakia',\n",
    "         'Hungary', 'Portugal', 'France', 'Germany']"
   ]
  },
  {
   "cell_type": "markdown",
   "id": "chicken-agriculture",
   "metadata": {},
   "source": [
    "<p style=\"font-size:16px\">\n",
    "    The methods below are used to calculate the elo of respective teams as used by FIFA. \n",
    "For more information on the math behind the calculations look at <a href=\"https://en.wikipedia.org/wiki/World_Football_Elo_Ratings\">this link</a>\n",
    "</p>"
   ]
  },
  {
   "cell_type": "code",
   "execution_count": 30,
   "id": "embedded-bench",
   "metadata": {},
   "outputs": [],
   "source": [
    "def initialize_elo_system(teams, initial_rating, start_year):\n",
    "    ratings = {}\n",
    "    for team in teams:\n",
    "        start_date = np.datetime64(f'{start_year}-01', 'D')\n",
    "        ratings[team] = [initial_rating], [start_date]\n",
    "        \n",
    "    return ratings"
   ]
  },
  {
   "cell_type": "code",
   "execution_count": 31,
   "id": "automotive-conversation",
   "metadata": {},
   "outputs": [],
   "source": [
    "def calculate_probabilities(home_rating, away_rating, scale_factor=400):\n",
    "    p_home = 1 / (1 + 10**((away_rating - home_rating) / scale_factor))\n",
    "    p_away = 1 / (1 + 10**((home_rating - away_rating) / scale_factor)) \n",
    "    \n",
    "    return p_home, p_away"
   ]
  },
  {
   "cell_type": "code",
   "execution_count": 32,
   "id": "corrected-wednesday",
   "metadata": {},
   "outputs": [],
   "source": [
    "def calculate_ratings(matches, ratings, k_factor=22.2):\n",
    "    num_matches = len(matches)\n",
    "    home_teams, away_teams = matches['home_team'].values, matches['away_team'].values\n",
    "    home_scores, away_scores = matches['home_score'].values, matches['away_score'].values\n",
    "    match_dates = matches['date'].values\n",
    "    \n",
    "    for i in range(num_matches):\n",
    "        home_team, away_team = home_teams[i], away_teams[i]\n",
    "        home_score, away_score = home_scores[i], away_scores[i]\n",
    "        match_date = match_dates[i]\n",
    "                \n",
    "        p_home, p_away = calculate_probabilities(ratings[home_team][0][-1], ratings[away_team][0][-1])\n",
    "        \n",
    "        if home_score > away_score:\n",
    "            match_result_home = 1\n",
    "            match_result_away = 0\n",
    "        elif home_score < away_score:\n",
    "            match_result_home = 0\n",
    "            match_result_away = 1\n",
    "        elif home_score == away_score:\n",
    "            match_result_home = 0.5\n",
    "            match_result_away = 0.5\n",
    "            \n",
    "        new_rating_home = ratings[home_team][0][-1] + k_factor * (match_result_home - p_home)\n",
    "        new_rating_away = ratings[away_team][0][-1] + k_factor * (match_result_away - p_away)\n",
    "        \n",
    "        ratings[home_team][0].append(new_rating_home)\n",
    "        ratings[away_team][0].append(new_rating_away)\n",
    "        \n",
    "        ratings[home_team][1].append(match_date)\n",
    "        ratings[away_team][1].append(match_date)\n",
    "        \n",
    "    return ratings"
   ]
  },
  {
   "cell_type": "code",
   "execution_count": 33,
   "id": "national-sector",
   "metadata": {},
   "outputs": [],
   "source": [
    "def convert_to_df(ratings, start_year):\n",
    "    today = date.today()\n",
    "    date_range = pd.date_range(start=f'1/1/{start_year}', end=today.strftime(\"%m/%d/%Y\"))\n",
    "    \n",
    "    for country in ratings:\n",
    "        df = pd.DataFrame(ratings[country][0], ratings[country][1], columns=[country])\n",
    "        df = df.reindex(date_range, method='pad')\n",
    "        ratings[country] = df\n",
    "        \n",
    "    ratings = pd.concat(list(ratings.values()), axis=1)\n",
    "    \n",
    "    return ratings"
   ]
  },
  {
   "cell_type": "code",
   "execution_count": 34,
   "id": "desperate-shaft",
   "metadata": {},
   "outputs": [],
   "source": [
    "def calculate_elo(teams, year_range, initial_rating=1200):\n",
    "    ratings = initialize_elo_system(teams, initial_rating, year_range[0])\n",
    "    matches = df[df['home_team'].isin(teams) & df['away_team'].isin(teams)]\n",
    "    matches = matches[matches['date'].dt.year.between(year_range[0], year_range[1])]\n",
    "    new_ratings = calculate_ratings(matches, ratings)\n",
    "    new_ratings = convert_to_df(new_ratings, year_range[0])\n",
    "    \n",
    "    return new_ratings"
   ]
  },
  {
   "cell_type": "code",
   "execution_count": 57,
   "id": "enhanced-quantum",
   "metadata": {},
   "outputs": [],
   "source": [
    "def plot_elos(ratings):\n",
    "    plt.figure(figsize=(15, 10))\n",
    "    \n",
    "    for country in teams:\n",
    "        dates, elos = ratings.index.values, ratings[country].values\n",
    "        plt.plot(dates, elos, label=country)\n",
    "        legend = plt.legend(title='Country', bbox_to_anchor=(1.05, 1), loc='upper left', fontsize='medium')"
   ]
  },
  {
   "cell_type": "code",
   "execution_count": 58,
   "id": "aerial-garlic",
   "metadata": {
    "scrolled": false
   },
   "outputs": [],
   "source": [
    "ratings = calculate_elo(teams, [2016, 2021])\n",
    "rankings = ratings.iloc[-1,:].sort_values(ascending=False)"
   ]
  },
  {
   "cell_type": "code",
   "execution_count": 61,
   "id": "normal-parliament",
   "metadata": {},
   "outputs": [
    {
     "data": {
      "image/png": "[encoded data removed]",
      "text/plain": [
       "<Figure size 1080x720 with 1 Axes>"
      ]
     },
     "metadata": {},
     "output_type": "display_data"
    }
   ],
   "source": [
    "plot_elos(ratings)"
   ]
  },
  {
   "cell_type": "markdown",
   "id": "logical-instrumentation",
   "metadata": {},
   "source": [
    "---\n",
    "# Seeing if being at home gives teams an advantage"
   ]
  },
  {
   "cell_type": "code",
   "execution_count": null,
   "id": "ready-april",
   "metadata": {},
   "outputs": [],
   "source": [
    "def calculate_home_percentages(year_range=None):\n",
    "    \n",
    "    # This method calculates winning/non-losing percentages for home teams\n",
    "    #\n",
    "    #\n",
    "    # Inputs:\n",
    "    #     year_range: An array containing two elements [start, end]\n",
    "    #                 No input will calculate from all years\n",
    "    #\n",
    "    # Outputs: \n",
    "    #     W: win rate of the home team\n",
    "    #     U: non-losing percentages of the home team (Undefeated percentages)\n",
    "    \n",
    "    home_win = 0\n",
    "    draw = 0\n",
    "    total = 0\n",
    "    \n",
    "    nonneutral = df[df['neutral'] == False]\n",
    "    if year_range != None:\n",
    "        nonneutral = nonneutral[nonneutral['date'].dt.year.between(year_range[0], year_range[1])]\n",
    "\n",
    "    for index, row in nonneutral.iterrows():\n",
    "        if row['home_score'] > row['away_score']:\n",
    "            home_win += 1\n",
    "        elif row['home_score'] == row['away_score']:\n",
    "            draw += 1\n",
    "        total += 1\n",
    "\n",
    "    return (home_win/total*100, (home_win+draw)/total*100)"
   ]
  },
  {
   "cell_type": "code",
   "execution_count": null,
   "id": "senior-thanks",
   "metadata": {},
   "outputs": [],
   "source": [
    "calculate_home_percentages()"
   ]
  },
  {
   "cell_type": "code",
   "execution_count": null,
   "id": "assured-celebration",
   "metadata": {},
   "outputs": [],
   "source": [
    "import requests\n",
    "import pandas as pd\n",
    "from bs4 import BeautifulSoup"
   ]
  },
  {
   "cell_type": "markdown",
   "id": "liked-panama",
   "metadata": {},
   "source": [
    "# The Search For Fantasy Gold"
   ]
  },
  {
   "cell_type": "markdown",
   "id": "flying-parker",
   "metadata": {},
   "source": [
    "Some believe that there is no sports without fantasy. This community is just as crazy and prevalent in the world of football. Whether it's Premier League Fantasy, UEFA Champions League Fantasy, or World Cup Fantasy, football fantasy fans are all in. That's why this data science guide to the Euros would not be complete if we didn't dedicate a section just for fantasy. Before the fantasy fans get too eager, let's get started..."
   ]
  },
  {
   "cell_type": "markdown",
   "id": "electoral-yukon",
   "metadata": {},
   "source": [
    "So first things first, if you are new to the realm of fantasy football don't worry. Here's the basics of how fantasy works... in most fantasy football formats (yes there are multiple fantasy games for the same sporting event, as you could imagine one simply wouldn't be enough for the fantasy community) you are given a certain amount of budget at the start of the season to build your squad. Using that budget, you pick a set of 15 or so players (a starting 11 plus bench players) from the entire selection of players available. Each player in the game is given a particular price tag, with the \"better\"/more high profile players costing more than other players. Once you have picked your initial team, you pick a starting 11 for each matchweek/gameweek, during which the players in your 11 rack up points based on how will they perform (in real life) during that week. Points are usually awarded for every goal scored, every assist, clean sheets, minutes played, saves (for goalkeepers), etc. Come the end of the season, the more total points you accumulate the higher up you are in the leaderboard (whether that's worldwide, or simply a mini league you and your colleagues at work/school started). Note that there are more involved aspects of fantasy such as weekly transfers, captaincy, chips like wildcard and benchboost, etc. but we are not going to dive into these aspects as they are not necessary to get you started (and in fact, have no effect on the area of focus for this guide, which will be the initial team selection)."
   ]
  },
  {
   "cell_type": "markdown",
   "id": "cultural-faculty",
   "metadata": {},
   "source": [
    "Okay, so now that you know the basics of fantasy, let's talk about how it relates to the Euros! As you might imagine, just as there are fantasy games for the annual football leagues played across the world (like the English Premier League, the German Bundesliga, the Italian Serie A, etc.), there are also fantasy games for singular tournaments such as the World Cup and the Euros (which take place every four years). Since the tournament duration is only a month or two, the fantasy game will only run for the duration of the tournament. In fantasy games involving international tournaments, the game is usually split into two phases. One phase for the group stages and one phase for the knockout rounds. In other words, you get to choose an initial team to play during the group stage portion of the tournament (where each team is guaranteed to play 3 games against the other teams in their group), and then get to select a completely new squad for the knockout rounds, choosing players from the teams that are still alive in the tournament. "
   ]
  },
  {
   "cell_type": "markdown",
   "id": "prospective-insured",
   "metadata": {},
   "source": [
    "In this guide, we will solely focus on selecting the \"best\" players for the group stages. This is due to the fact that the group stages are the first phase of the Euro Fantasy game, and more importantly, since all we know are the teams who have qualified for the tournament, we can't make selections for the knockout stages as there is always the possibility that the players we pick are on teams that do not advance to the knockout stages (and hence will earn no points). Additionally, we will not be focusing on finding budget value players (players that are underpriced in the game when compared to their points potential) and will instead be focusing on picking the \"best\" fantasy assets on the pure basis of their form and potential for scoring loads of points (regardless of how expensive they are). In other words, this guide will be our selection of who we think are going to be the players who score the most points overall, and therefore serving as the foundational set of players you can build your team around (you think of it as the core players who will make up the largest chunk of your budget, but consequently expected to produce the most fantasy returns). Our aim is that by the end of this section, you will not just have a set of fantasy players who will help you kill it in fantasy this Euros (whether it's your first time playing or hundredth) but also understand the process of data representation, exploration, and analysis used to produce these picks. That way, you won't just do well this year, but have the necessary skillset to conduct your own data science to find the best players for your fantasy team next time out (as we hope you'll keep playing!). "
   ]
  },
  {
   "cell_type": "markdown",
   "id": "worse-integral",
   "metadata": {},
   "source": [
    "Without further to do, let's dive deep into the search for fantasy gold...\n",
    "\n",
    "So first things first. We are going to split our analysis into two parts. The first part will be dedicated towards attackers, which encompasses forwards and midfielders. The second part will focus on defenders (which includes goalkeepers as well)."
   ]
  },
  {
   "cell_type": "markdown",
   "id": "reverse-education",
   "metadata": {},
   "source": [
    "## Part 1: Attackers"
   ]
  },
  {
   "cell_type": "markdown",
   "id": "unknown-trash",
   "metadata": {},
   "source": [
    "Whether you or a soccer fan or not, we all know one thing: attackers score goals. As you might imagine, this mantra is very relevant when thinking about what attackers to select for your fantasy team. No matter what version of a fantasy game you play, the idea that \"the more goals your attackers score the better of your fantasy team will be\" holds true. After all, goals are the bread and butter of attackers. So with this in mind, let's zoom our lens in on the topscorers of each team. More specifically, the topscorers for each team during Euro Qualifiers (you guessed it. it's the set of games teams had to play in order to qualify for the tournament). Our hypothesis is that the topscorers for each team during the qualifiers are more likely to score during the group stages of the actual tournament. Let's see if this is the case by taking a look at the Euro's of previous years, and see what percentage of top scorers actually ended up scoring at least 1 goal in the group stages of the actual tournament."
   ]
  },
  {
   "cell_type": "markdown",
   "id": "cloudy-billy",
   "metadata": {},
   "source": [
    "Let's start by focusing on Euro 2012, in particular, and see what results we get. We can't do any data science without getting the data first, so let's scrape the internet for information on how each team did during qualifying, as well as the topscorers for each team in the matches played, and collect that into pandas dataframes."
   ]
  },
  {
   "cell_type": "code",
   "execution_count": null,
   "id": "acoustic-crime",
   "metadata": {},
   "outputs": [],
   "source": [
    "# Getting the html of the website we will be scraping from (it's gotta be Wikipedia, of couse)\n",
    "website = requests.get('https://en.wikipedia.org/wiki/UEFA_Euro_2012_qualifying#Groups')"
   ]
  },
  {
   "cell_type": "code",
   "execution_count": null,
   "id": "liked-intranet",
   "metadata": {},
   "outputs": [],
   "source": [
    "website.content"
   ]
  },
  {
   "cell_type": "code",
   "execution_count": null,
   "id": "endless-delhi",
   "metadata": {
    "scrolled": true
   },
   "outputs": [],
   "source": [
    "# Let's clean the html up a bit with BeautifulSoup\n",
    "website_formatted = BeautifulSoup(website.content)\n",
    "website_formatted"
   ]
  },
  {
   "cell_type": "code",
   "execution_count": null,
   "id": "convertible-insertion",
   "metadata": {},
   "outputs": [],
   "source": [
    "# Creating data frame which we will populate with data for each team, specifically how they fared in their qualifying\n",
    "# group, info such as games played, wins, draws, losses, goals scored, goals conceded, goal difference, and points tally\n",
    "euro_2012_qualifying_teams_df = pd.DataFrame(columns = ['Team','Pld','W','D','L','GF','GA','GD','Pts'])\n",
    "euro_2012_qualifying_teams_df"
   ]
  },
  {
   "cell_type": "code",
   "execution_count": null,
   "id": "average-repair",
   "metadata": {},
   "outputs": [],
   "source": [
    "# Here's the list of teams who played in Euro 2012 (this is excluding Poland and Ukraine since, they were the\n",
    "# teams to host the Euros and therefore gained automatic qualification and didn't have to play in qualifiers)\n",
    "teams = ['Czech Republic','Greece','Russia',\n",
    "         'Germany','Portugal','Denmark','Netherlands',\n",
    "         'Spain','Italy','Croatia','Republic of Ireland',\n",
    "         'England','France','Sweden']\n",
    "\n",
    "# For each team we will scrape the Wikipedia page for the row containing the team information we need.\n",
    "for team in teams:\n",
    "    # Data we need is within a <th> tag so finding all <th> tags.\n",
    "    all_table_headers = website_formatted.findAll('th')\n",
    "    table_headers_w_span_tag = []\n",
    "    # Getting all span tags found within our list of <th> tags\n",
    "    for th in all_table_headers:\n",
    "        curr_th_all_span_tags = th.findAll('span')\n",
    "        for curr_span_tag in curr_th_all_span_tags:\n",
    "            table_headers_w_span_tag.append(curr_span_tag)\n",
    "\n",
    "    # List we will populate with all the <a> tags which are found within our list of span tags\n",
    "    a_tags = []\n",
    "    for span in  table_headers_w_span_tag:\n",
    "        curr_span_a_tags = span.findAll('a', {'title' : team+' national football team'}, text=team)\n",
    "        for curr_span_a_tag in curr_span_a_tags:\n",
    "            a_tags.append(curr_span_a_tag)\n",
    "    \n",
    "    # Target tag will be assigned to the <a> tag which marks the point in the html from which the information we need lies\n",
    "    target_tag = None\n",
    "    for a_tag in a_tags:\n",
    "        tag_style = a_tag.find_next('td').attrs.get('style')\n",
    "        # We are looking for the <a> tag which has a style attribute\n",
    "        if tag_style != None:\n",
    "            target_tag = a_tag\n",
    "            break # The moment we find our target tag we will terminate the for-loop.\n",
    "        \n",
    "    curr_tag = target_tag.find_next('td')\n",
    "\n",
    "    team_data = [] # list we will populate with elements containing information pertaining to the team currently being processed.\n",
    "    team_data.append(team) # adding team name info to our list\n",
    "\n",
    "    # Iterating through the siblings of the <a> tag we identified as our target tag, and grabbing the data we need from each of the siblings\n",
    "    for i in range(1,9):\n",
    "        data = curr_tag.text.strip('\\n')\n",
    "        team_data.append(data)\n",
    "        curr_tag = curr_tag.find_next('td')\n",
    "\n",
    "    # Appending team data that was just parsed and obtained in the form of a list as a row in our dataframe.\n",
    "    euro_2012_qualifying_teams_df = euro_2012_qualifying_teams_df.append(pd.DataFrame([team_data], columns=euro_2012_qualifying_teams_df.columns))\n",
    "\n",
    "euro_2012_qualifying_teams_df = euro_2012_qualifying_teams_df.reset_index(drop=True)\n",
    "euro_2012_qualifying_teams_df"
   ]
  },
  {
   "cell_type": "markdown",
   "id": "heard-delay",
   "metadata": {},
   "source": [
    "Okay looks like we got the team information! A quick cross-check with the actual data on Wikipedia confirms that the scrape and move into a panda dataframe was successful. That being said, there are a few minor adjustments we must make. Specifically, the teams Croatia, the Republic of Ireland, Czech Republic, and Portugal all played in the qualifier play-offs, which were additional games that had to be played in order for them to get into the tournament. The data we scraped was only the teams' results from the qualifying group stages, so we must add the data from the play-offs for the aforementioned 4 teams. Here were the playoff games...\n",
    "\n",
    "Croatia\n",
    "<br>\n",
    "Game 1: 3-0 win\n",
    "<br>\n",
    "Game 2: 0-0 draw\n",
    "<br>\n",
    "\n",
    "Republic of Ireland\n",
    "<br>\n",
    "Game 1: 4-0 win\n",
    "<br>\n",
    "Game 2: 1-1 draw\n",
    "<br>\n",
    "\n",
    "Czech Republic\n",
    "<br>\n",
    "Game 1: 2-0 win\n",
    "<br>\n",
    "Game 2: 1-0 win\n",
    "<br>\n",
    "\n",
    "Portugal\n",
    "<br>\n",
    "Game 1: 0-0 draw\n",
    "<br>\n",
    "Game 2: 6-2 win\n",
    "<br>\n",
    "\n",
    "Based on these results, let's adjust the values in our table for the respective teams involved."
   ]
  },
  {
   "cell_type": "code",
   "execution_count": null,
   "id": "humanitarian-shooting",
   "metadata": {},
   "outputs": [],
   "source": [
    "# Indices of teams in play-offs\n",
    "playoff_teams = [0,4,9,10]\n",
    "\n",
    "# Since each play-off team played an additional 2 games, adding those to the respective games played counts for each play-off team\n",
    "for index in playoff_teams:\n",
    "    euro_2012_qualifying_teams_df.at[index,'Pld'] = int(euro_2012_qualifying_teams_df.at[index,'Pld']) + 2\n",
    "    \n",
    "# Adjustments for Czech Republic\n",
    "euro_2012_qualifying_teams_df.at[0,'GF'] = '15'\n",
    "euro_2012_qualifying_teams_df.at[0,'GD'] = '+7'\n",
    "# Adjustments for Portugal\n",
    "euro_2012_qualifying_teams_df.at[4,'GF'] = '27'\n",
    "euro_2012_qualifying_teams_df.at[4,'GA'] = '14'\n",
    "euro_2012_qualifying_teams_df.at[4,'GD'] = '+13'\n",
    "# Adjustments for Croatia\n",
    "euro_2012_qualifying_teams_df.at[9,'GF'] = '21'\n",
    "euro_2012_qualifying_teams_df.at[9,'GD'] = '+14'\n",
    "# Adjustments for Ireland\n",
    "euro_2012_qualifying_teams_df.at[10,'GF'] = '20'\n",
    "euro_2012_qualifying_teams_df.at[10,'GA'] = '8'\n",
    "euro_2012_qualifying_teams_df.at[10,'GD'] = '+12'\n",
    "\n",
    "euro_2012_qualifying_teams_df"
   ]
  },
  {
   "cell_type": "markdown",
   "id": "durable-backing",
   "metadata": {},
   "source": [
    "Okay, now that we have made the adjustments necessary for the teams table, we can move on to scraping the top goalscorer data... in order to get the top goalscorer data for each team, let's first scrape the webpage to get all the goalscorers who played for teams that successfully qualified for the Euros. Then we can filter this dataframe as\n",
    "needed, to get the top goalscorers for each team."
   ]
  },
  {
   "cell_type": "code",
   "execution_count": null,
   "id": "inner-landscape",
   "metadata": {},
   "outputs": [],
   "source": [
    "# Creating data frame which we will populate with data pertaining to all the goalscorers during the Euro 2012 qualifiers,\n",
    "# data will include player name, team, and number of goals scored.\n",
    "euro_2012_qualifying_goalscorers_df = pd.DataFrame(columns = ['Player','Team','Goals_Scored'])"
   ]
  },
  {
   "cell_type": "code",
   "execution_count": null,
   "id": "lasting-warrant",
   "metadata": {},
   "outputs": [],
   "source": [
    "import re # Will be using regex\n",
    "\n",
    "# This anchor, marks the starting point in the html we will parse from, as this is where the Wikipedia page\n",
    "# begins displaying information regarding the top goalscorers during qualifiers.\n",
    "anchor = website_formatted.find(text=\"There were 665 goals scored in 248 matches, for an average of 2.68 goals per match.\")\n",
    "curr_goal_section = anchor.find_next('p')\n",
    "\n",
    "# Iterating over each category of goals (12 goals, 9 goals, 7 goals, 6 goals, 5 goals, etc.)\n",
    "for i in range(1,10):\n",
    "    curr_goal_amount = curr_goal_section.find_next('b').text\n",
    "    html = u\"\"\n",
    "    # Getting all the html between the current goal category and the next\n",
    "    for tag in curr_goal_section.next_siblings:\n",
    "        if tag.name == \"p\":\n",
    "            curr_goal_section = tag\n",
    "            break\n",
    "        else:\n",
    "            html += str(tag)\n",
    "    players = [] # List we will populate with player info\n",
    "    soup = BeautifulSoup(html, 'html.parser') # Converting the html we just extracted in the form of a string into a BeautifulSoup object\n",
    "    a_tags = soup.find_all('a')\n",
    "    # Iterating over all <a> tags which potentially contain player names (if they have non-empty text)\n",
    "    for a_tag in a_tags:\n",
    "        if len(a_tag.text) != 0:\n",
    "            players.append([a_tag.text])\n",
    "    \n",
    "    # Iterating over all <img> tags which contain player team information in the 'alt' attribute\n",
    "    img_tags = soup.find_all('img')\n",
    "    for index, img in enumerate(img_tags, start=0):\n",
    "        players[index].append(img['alt']) # Adding player nationality/team to list\n",
    "        goal_amount = re.findall('\\d+', curr_goal_amount)[0] # extracting number portion of string containing number of goals scored\n",
    "        players[index].append(int(goal_amount)) # Adding number of goals scored to list as int\n",
    "        \n",
    "    for player in players:\n",
    "        # Checking if player was on team that qualified for the Euros, don't need to consider player data otherwise\n",
    "        if teams.count(player[1]) > 0:\n",
    "            # Adding goalscorer to our dataframe\n",
    "            euro_2012_qualifying_goalscorers_df = euro_2012_qualifying_goalscorers_df.append(pd.DataFrame([player], columns=euro_2012_qualifying_goalscorers_df.columns))\n",
    "\n",
    "euro_2012_qualifying_goalscorers_df.Goals_Scored = euro_2012_qualifying_goalscorers_df.Goals_Scored.astype(int) # Setting goals scored column as type int\n",
    "euro_2012_qualifying_goalscorers_df"
   ]
  },
  {
   "cell_type": "markdown",
   "id": "respective-thirty",
   "metadata": {},
   "source": [
    "Okay, now that we have a dataframe containing all the goalscorers from Euro qualifiers (from the teams who actually ended up qualifying), let's filter out the rows in the dataframe to only get the top goalscorers for each team."
   ]
  },
  {
   "cell_type": "code",
   "execution_count": null,
   "id": "loving-parker",
   "metadata": {
    "scrolled": false
   },
   "outputs": [],
   "source": [
    "topscorers_df = pd.DataFrame(columns = ['Player','Team','Goals_Scored'])\n",
    "# Iterating through all the teams and getting the rows that correspond with the top goalscorers for the team being processed.\n",
    "for team in teams:\n",
    "    team_df = euro_2012_qualifying_goalscorers_df[euro_2012_qualifying_goalscorers_df['Team']==team] # Getting portion of df relating to team being processed.\n",
    "    most_goals = team_df['Goals_Scored'].max() # Getting max goals scored by any player of team.\n",
    "    team_topscorers_df = team_df[team_df['Goals_Scored'] == most_goals] # Getting subset of team dataframe with rows only pertaining to the topscorers.\n",
    "    topscorers_df = topscorers_df.append(team_topscorers_df) # Adding rows with top goalscorer data to our top goalscorer dataframe.\n",
    "    \n",
    "topscorers_df"
   ]
  },
  {
   "cell_type": "markdown",
   "id": "english-appointment",
   "metadata": {},
   "source": [
    "Okay, now that we've got the top scorers for each team, let's take a look at what happened during the actual Euros, and see what percentage of these top scorers actually ended up scoring at least 1 goal in the group stages of the tournament."
   ]
  },
  {
   "cell_type": "code",
   "execution_count": null,
   "id": "czech-basic",
   "metadata": {},
   "outputs": [],
   "source": []
  },
  {
   "cell_type": "code",
   "execution_count": null,
   "id": "functional-venezuela",
   "metadata": {},
   "outputs": [],
   "source": []
  }
 ],
 "metadata": {
  "kernelspec": {
   "display_name": "Python 3",
   "language": "python",
   "name": "python3"
  },
  "language_info": {
   "codemirror_mode": {
    "name": "ipython",
    "version": 3
   },
   "file_extension": ".py",
   "mimetype": "text/x-python",
   "name": "python",
   "nbconvert_exporter": "python",
   "pygments_lexer": "ipython3",
   "version": "3.7.9"
  }
 },
 "nbformat": 4,
 "nbformat_minor": 5
}
